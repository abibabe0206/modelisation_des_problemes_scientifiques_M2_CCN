{
 "cells": [
  {
   "cell_type": "code",
   "execution_count": 1,
   "metadata": {},
   "outputs": [],
   "source": [
    "from mobilechelonian import Turtle"
   ]
  },
  {
   "cell_type": "code",
   "execution_count": 2,
   "metadata": {},
   "outputs": [
    {
     "data": {
      "application/vnd.jupyter.widget-view+json": {
       "model_id": "e366a7ff7bd846458f0f2881a9bf7023",
       "version_major": 2,
       "version_minor": 0
      },
      "text/plain": [
       "Turtle()"
      ]
     },
     "metadata": {},
     "output_type": "display_data"
    }
   ],
   "source": [
    "t = Turtle ()"
   ]
  },
  {
   "cell_type": "code",
   "execution_count": 3,
   "metadata": {},
   "outputs": [
    {
     "name": "stdout",
     "output_type": "stream",
     "text": [
      "Help on class Turtle in module mobilechelonian:\n",
      "\n",
      "class Turtle(ipywidgets.widgets.domwidget.DOMWidget)\n",
      " |  Turtle(*args, **kwargs)\n",
      " |  \n",
      " |  Widget that can be inserted into the DOM\n",
      " |  \n",
      " |  Method resolution order:\n",
      " |      Turtle\n",
      " |      ipywidgets.widgets.domwidget.DOMWidget\n",
      " |      ipywidgets.widgets.widget.Widget\n",
      " |      ipywidgets.widgets.widget.LoggingHasTraits\n",
      " |      traitlets.traitlets.HasTraits\n",
      " |      traitlets.traitlets.HasDescriptors\n",
      " |      builtins.object\n",
      " |  \n",
      " |  Methods defined here:\n",
      " |  \n",
      " |  __init__(self)\n",
      " |      Create a Turtle.\n",
      " |      \n",
      " |      Example::\n",
      " |      \n",
      " |          t = Turtle()\n",
      " |  \n",
      " |  backward(self, num)\n",
      " |      Move the Turtle backward by num units.\n",
      " |      \n",
      " |      Example::\n",
      " |      \n",
      " |          t.backward(100)\n",
      " |  \n",
      " |  circle(self, radius, extent=360)\n",
      " |      Draw a circle, or part of a circle.\n",
      " |      \n",
      " |      From its current position, the turtle will draw a series of short lines,\n",
      " |      turning slightly between each. If radius is positive, it will turn to\n",
      " |      its left; a negative radius will make it turn to its right.\n",
      " |      \n",
      " |      Example::\n",
      " |      \n",
      " |          t.circle(50)\n",
      " |  \n",
      " |  forward(self, num)\n",
      " |      Move the Turtle forward by num units.\n",
      " |      \n",
      " |      Example:\n",
      " |      \n",
      " |          t.forward(100)\n",
      " |  \n",
      " |  home(self)\n",
      " |      Move the Turtle to its home position.\n",
      " |      \n",
      " |      Example::\n",
      " |      \n",
      " |          t.home()\n",
      " |  \n",
      " |  left(self, num)\n",
      " |      Turn the Turtle num degrees to the left.\n",
      " |      \n",
      " |      Example::\n",
      " |      \n",
      " |          t.left(90)\n",
      " |  \n",
      " |  pencolor(self, color)\n",
      " |      Change the color of the pen to color. Default is black.\n",
      " |      \n",
      " |      Example::\n",
      " |      \n",
      " |          t.pencolor(\"red\")\n",
      " |  \n",
      " |  pendown(self)\n",
      " |      Put down the pen. Turtles start with their pen down.\n",
      " |      \n",
      " |      Example::\n",
      " |      \n",
      " |          t.pendown()\n",
      " |  \n",
      " |  penup(self)\n",
      " |      Lift up the pen.\n",
      " |      \n",
      " |      Example::\n",
      " |      \n",
      " |          t.penup()\n",
      " |  \n",
      " |  right(self, num)\n",
      " |      Turn the Turtle num degrees to the right.\n",
      " |      \n",
      " |      Example::\n",
      " |      \n",
      " |          t.right(90)\n",
      " |  \n",
      " |  setbearing(self, bearing)\n",
      " |      Change the bearing (angle) of the turtle.\n",
      " |      \n",
      " |      Example::\n",
      " |      \n",
      " |          t.setbearing(180)\n",
      " |  \n",
      " |  setposition(self, x, y, bearing=None)\n",
      " |      Change the position of the turtle.\n",
      " |      \n",
      " |      Example::\n",
      " |      \n",
      " |          t.setposition(100, 100)\n",
      " |  \n",
      " |  speed(self, speed)\n",
      " |      Change the speed of the turtle (range 1-10).\n",
      " |      \n",
      " |      Example::\n",
      " |      \n",
      " |          t.speed(10) # Full speed\n",
      " |  \n",
      " |  ----------------------------------------------------------------------\n",
      " |  Data descriptors defined here:\n",
      " |  \n",
      " |  points\n",
      " |      An instance of a Python list.\n",
      " |  \n",
      " |  ----------------------------------------------------------------------\n",
      " |  Data and other attributes defined here:\n",
      " |  \n",
      " |  OFFSET = 20\n",
      " |  \n",
      " |  SIZE = 400\n",
      " |  \n",
      " |  ----------------------------------------------------------------------\n",
      " |  Methods inherited from ipywidgets.widgets.domwidget.DOMWidget:\n",
      " |  \n",
      " |  add_class(self, className)\n",
      " |      Adds a class to the top level element of the widget.\n",
      " |      \n",
      " |      Doesn't add the class if it already exists.\n",
      " |  \n",
      " |  remove_class(self, className)\n",
      " |      Removes a class from the top level element of the widget.\n",
      " |      \n",
      " |      Doesn't remove the class if it doesn't exist.\n",
      " |  \n",
      " |  ----------------------------------------------------------------------\n",
      " |  Data descriptors inherited from ipywidgets.widgets.domwidget.DOMWidget:\n",
      " |  \n",
      " |  layout\n",
      " |      An instance trait which coerces a dict to an instance.\n",
      " |      \n",
      " |      This lets the instance be specified as a dict, which is used\n",
      " |      to initialize the instance.\n",
      " |      \n",
      " |      Also, we default to a trivial instance, even if args and kwargs\n",
      " |      is not specified.\n",
      " |  \n",
      " |  ----------------------------------------------------------------------\n",
      " |  Methods inherited from ipywidgets.widgets.widget.Widget:\n",
      " |  \n",
      " |  __del__(self)\n",
      " |      Object disposal\n",
      " |  \n",
      " |  __repr__(self)\n",
      " |      Return repr(self).\n",
      " |  \n",
      " |  add_traits(self, **traits)\n",
      " |      Dynamically add trait attributes to the Widget.\n",
      " |  \n",
      " |  close(self)\n",
      " |      Close method.\n",
      " |      \n",
      " |      Closes the underlying comm.\n",
      " |      When the comm is closed, all of the widget views are automatically\n",
      " |      removed from the front-end.\n",
      " |  \n",
      " |  get_state(self, key=None, drop_defaults=False)\n",
      " |      Gets the widget state, or a piece of it.\n",
      " |      \n",
      " |      Parameters\n",
      " |      ----------\n",
      " |      key : unicode or iterable (optional)\n",
      " |          A single property's name or iterable of property names to get.\n",
      " |      \n",
      " |      Returns\n",
      " |      -------\n",
      " |      state : dict of states\n",
      " |      metadata : dict\n",
      " |          metadata for each field: {key: metadata}\n",
      " |  \n",
      " |  get_view_spec(self)\n",
      " |  \n",
      " |  hold_sync(self)\n",
      " |      Hold syncing any state until the outermost context manager exits\n",
      " |  \n",
      " |  notify_change(self, change)\n",
      " |      Called when a property has changed.\n",
      " |  \n",
      " |  on_displayed(self, callback, remove=False)\n",
      " |      (Un)Register a widget displayed callback.\n",
      " |      \n",
      " |      Parameters\n",
      " |      ----------\n",
      " |      callback: method handler\n",
      " |          Must have a signature of::\n",
      " |      \n",
      " |              callback(widget, **kwargs)\n",
      " |      \n",
      " |          kwargs from display are passed through without modification.\n",
      " |      remove: bool\n",
      " |          True if the callback should be unregistered.\n",
      " |  \n",
      " |  on_msg(self, callback, remove=False)\n",
      " |      (Un)Register a custom msg receive callback.\n",
      " |      \n",
      " |      Parameters\n",
      " |      ----------\n",
      " |      callback: callable\n",
      " |          callback will be passed three arguments when a message arrives::\n",
      " |      \n",
      " |              callback(widget, content, buffers)\n",
      " |      \n",
      " |      remove: bool\n",
      " |          True if the callback should be unregistered.\n",
      " |  \n",
      " |  open(self)\n",
      " |      Open a comm to the frontend if one isn't already open.\n",
      " |  \n",
      " |  send(self, content, buffers=None)\n",
      " |      Sends a custom msg to the widget model in the front-end.\n",
      " |      \n",
      " |      Parameters\n",
      " |      ----------\n",
      " |      content : dict\n",
      " |          Content of the message to send.\n",
      " |      buffers : list of binary buffers\n",
      " |          Binary buffers to send with message\n",
      " |  \n",
      " |  send_state(self, key=None)\n",
      " |      Sends the widget state, or a piece of it, to the front-end, if it exists.\n",
      " |      \n",
      " |      Parameters\n",
      " |      ----------\n",
      " |      key : unicode, or iterable (optional)\n",
      " |          A single property's name or iterable of property names to sync with the front-end.\n",
      " |  \n",
      " |  set_state(self, sync_data)\n",
      " |      Called when a state is received from the front-end.\n",
      " |  \n",
      " |  ----------------------------------------------------------------------\n",
      " |  Class methods inherited from ipywidgets.widgets.widget.Widget:\n",
      " |  \n",
      " |  close_all() from traitlets.traitlets.MetaHasTraits\n",
      " |  \n",
      " |  ----------------------------------------------------------------------\n",
      " |  Static methods inherited from ipywidgets.widgets.widget.Widget:\n",
      " |  \n",
      " |  get_manager_state(drop_defaults=False, widgets=None)\n",
      " |      Returns the full state for a widget manager for embedding\n",
      " |      \n",
      " |      :param drop_defaults: when True, it will not include default value\n",
      " |      :param widgets: list with widgets to include in the state (or all widgets when None)\n",
      " |      :return:\n",
      " |  \n",
      " |  handle_comm_opened(comm, msg)\n",
      " |      Static method, called when a widget is constructed.\n",
      " |  \n",
      " |  on_widget_constructed(callback)\n",
      " |      Registers a callback to be called when a widget is constructed.\n",
      " |      \n",
      " |      The callback must have the following signature:\n",
      " |      callback(widget)\n",
      " |  \n",
      " |  ----------------------------------------------------------------------\n",
      " |  Data descriptors inherited from ipywidgets.widgets.widget.Widget:\n",
      " |  \n",
      " |  comm\n",
      " |      A trait whose value must be an instance of a specified class.\n",
      " |      \n",
      " |      The value can also be an instance of a subclass of the specified class.\n",
      " |      \n",
      " |      Subclasses can declare default classes by overriding the klass attribute\n",
      " |  \n",
      " |  keys\n",
      " |      An instance of a Python list.\n",
      " |  \n",
      " |  model_id\n",
      " |      Gets the model id of this widget.\n",
      " |      \n",
      " |      If a Comm doesn't exist yet, a Comm will be created automagically.\n",
      " |  \n",
      " |  ----------------------------------------------------------------------\n",
      " |  Data and other attributes inherited from ipywidgets.widgets.widget.Widget:\n",
      " |  \n",
      " |  widget_types = <ipywidgets.widgets.widget.WidgetRegistry object>\n",
      " |  \n",
      " |  widgets = {'019ac321ed8545a3ac00d4ed56c4301b': Layout(), 'e366a7ff7bd8...\n",
      " |  \n",
      " |  ----------------------------------------------------------------------\n",
      " |  Data descriptors inherited from ipywidgets.widgets.widget.LoggingHasTraits:\n",
      " |  \n",
      " |  log\n",
      " |      A trait whose value must be an instance of a specified class.\n",
      " |      \n",
      " |      The value can also be an instance of a subclass of the specified class.\n",
      " |      \n",
      " |      Subclasses can declare default classes by overriding the klass attribute\n",
      " |  \n",
      " |  ----------------------------------------------------------------------\n",
      " |  Methods inherited from traitlets.traitlets.HasTraits:\n",
      " |  \n",
      " |  __getstate__(self)\n",
      " |  \n",
      " |  __setstate__(self, state)\n",
      " |  \n",
      " |  has_trait(self, name)\n",
      " |      Returns True if the object has a trait with the specified name.\n",
      " |  \n",
      " |  hold_trait_notifications(self)\n",
      " |      Context manager for bundling trait change notifications and cross\n",
      " |      validation.\n",
      " |      \n",
      " |      Use this when doing multiple trait assignments (init, config), to avoid\n",
      " |      race conditions in trait notifiers requesting other trait values.\n",
      " |      All trait notifications will fire after all values have been assigned.\n",
      " |  \n",
      " |  observe(self, handler, names=traitlets.All, type='change')\n",
      " |      Setup a handler to be called when a trait changes.\n",
      " |      \n",
      " |      This is used to setup dynamic notifications of trait changes.\n",
      " |      \n",
      " |      Parameters\n",
      " |      ----------\n",
      " |      handler : callable\n",
      " |          A callable that is called when a trait changes. Its\n",
      " |          signature should be ``handler(change)``, where ``change`` is a\n",
      " |          dictionary. The change dictionary at least holds a 'type' key.\n",
      " |          * ``type``: the type of notification.\n",
      " |          Other keys may be passed depending on the value of 'type'. In the\n",
      " |          case where type is 'change', we also have the following keys:\n",
      " |          * ``owner`` : the HasTraits instance\n",
      " |          * ``old`` : the old value of the modified trait attribute\n",
      " |          * ``new`` : the new value of the modified trait attribute\n",
      " |          * ``name`` : the name of the modified trait attribute.\n",
      " |      names : list, str, All\n",
      " |          If names is All, the handler will apply to all traits.  If a list\n",
      " |          of str, handler will apply to all names in the list.  If a\n",
      " |          str, the handler will apply just to that name.\n",
      " |      type : str, All (default: 'change')\n",
      " |          The type of notification to filter by. If equal to All, then all\n",
      " |          notifications are passed to the observe handler.\n",
      " |  \n",
      " |  on_trait_change(self, handler=None, name=None, remove=False)\n",
      " |      DEPRECATED: Setup a handler to be called when a trait changes.\n",
      " |      \n",
      " |      This is used to setup dynamic notifications of trait changes.\n",
      " |      \n",
      " |      Static handlers can be created by creating methods on a HasTraits\n",
      " |      subclass with the naming convention '_[traitname]_changed'.  Thus,\n",
      " |      to create static handler for the trait 'a', create the method\n",
      " |      _a_changed(self, name, old, new) (fewer arguments can be used, see\n",
      " |      below).\n",
      " |      \n",
      " |      If `remove` is True and `handler` is not specified, all change\n",
      " |      handlers for the specified name are uninstalled.\n",
      " |      \n",
      " |      Parameters\n",
      " |      ----------\n",
      " |      handler : callable, None\n",
      " |          A callable that is called when a trait changes.  Its\n",
      " |          signature can be handler(), handler(name), handler(name, new),\n",
      " |          handler(name, old, new), or handler(name, old, new, self).\n",
      " |      name : list, str, None\n",
      " |          If None, the handler will apply to all traits.  If a list\n",
      " |          of str, handler will apply to all names in the list.  If a\n",
      " |          str, the handler will apply just to that name.\n",
      " |      remove : bool\n",
      " |          If False (the default), then install the handler.  If True\n",
      " |          then unintall it.\n",
      " |  \n",
      " |  set_trait(self, name, value)\n",
      " |      Forcibly sets trait attribute, including read-only attributes.\n",
      " |  \n",
      " |  setup_instance(self, *args, **kwargs)\n",
      " |      This is called **before** self.__init__ is called.\n",
      " |  \n",
      " |  trait_metadata(self, traitname, key, default=None)\n",
      " |      Get metadata values for trait by key.\n",
      " |  \n",
      " |  trait_names(self, **metadata)\n",
      " |      Get a list of all the names of this class' traits.\n",
      " |  \n",
      " |  traits(self, **metadata)\n",
      " |      Get a ``dict`` of all the traits of this class.  The dictionary\n",
      " |      is keyed on the name and the values are the TraitType objects.\n",
      " |      \n",
      " |      The TraitTypes returned don't know anything about the values\n",
      " |      that the various HasTrait's instances are holding.\n",
      " |      \n",
      " |      The metadata kwargs allow functions to be passed in which\n",
      " |      filter traits based on metadata values.  The functions should\n",
      " |      take a single value as an argument and return a boolean.  If\n",
      " |      any function returns False, then the trait is not included in\n",
      " |      the output.  If a metadata key doesn't exist, None will be passed\n",
      " |      to the function.\n",
      " |  \n",
      " |  unobserve(self, handler, names=traitlets.All, type='change')\n",
      " |      Remove a trait change handler.\n",
      " |      \n",
      " |      This is used to unregister handlers to trait change notifications.\n",
      " |      \n",
      " |      Parameters\n",
      " |      ----------\n",
      " |      handler : callable\n",
      " |          The callable called when a trait attribute changes.\n",
      " |      names : list, str, All (default: All)\n",
      " |          The names of the traits for which the specified handler should be\n",
      " |          uninstalled. If names is All, the specified handler is uninstalled\n",
      " |          from the list of notifiers corresponding to all changes.\n",
      " |      type : str or All (default: 'change')\n",
      " |          The type of notification to filter by. If All, the specified handler\n",
      " |          is uninstalled from the list of notifiers corresponding to all types.\n",
      " |  \n",
      " |  unobserve_all(self, name=traitlets.All)\n",
      " |      Remove trait change handlers of any type for the specified name.\n",
      " |      If name is not specified, removes all trait notifiers.\n",
      " |  \n",
      " |  ----------------------------------------------------------------------\n",
      " |  Class methods inherited from traitlets.traitlets.HasTraits:\n",
      " |  \n",
      " |  class_own_trait_events(name) from traitlets.traitlets.MetaHasTraits\n",
      " |      Get a dict of all event handlers defined on this class, not a parent.\n",
      " |      \n",
      " |      Works like ``event_handlers``, except for excluding traits from parents.\n",
      " |  \n",
      " |  class_own_traits(**metadata) from traitlets.traitlets.MetaHasTraits\n",
      " |      Get a dict of all the traitlets defined on this class, not a parent.\n",
      " |      \n",
      " |      Works like `class_traits`, except for excluding traits from parents.\n",
      " |  \n",
      " |  class_trait_names(**metadata) from traitlets.traitlets.MetaHasTraits\n",
      " |      Get a list of all the names of this class' traits.\n",
      " |      \n",
      " |      This method is just like the :meth:`trait_names` method,\n",
      " |      but is unbound.\n",
      " |  \n",
      " |  class_traits(**metadata) from traitlets.traitlets.MetaHasTraits\n",
      " |      Get a ``dict`` of all the traits of this class.  The dictionary\n",
      " |      is keyed on the name and the values are the TraitType objects.\n",
      " |      \n",
      " |      This method is just like the :meth:`traits` method, but is unbound.\n",
      " |      \n",
      " |      The TraitTypes returned don't know anything about the values\n",
      " |      that the various HasTrait's instances are holding.\n",
      " |      \n",
      " |      The metadata kwargs allow functions to be passed in which\n",
      " |      filter traits based on metadata values.  The functions should\n",
      " |      take a single value as an argument and return a boolean.  If\n",
      " |      any function returns False, then the trait is not included in\n",
      " |      the output.  If a metadata key doesn't exist, None will be passed\n",
      " |      to the function.\n",
      " |  \n",
      " |  trait_events(name=None) from traitlets.traitlets.MetaHasTraits\n",
      " |      Get a ``dict`` of all the event handlers of this class.\n",
      " |      \n",
      " |      Parameters\n",
      " |      ----------\n",
      " |      name: str (default: None)\n",
      " |          The name of a trait of this class. If name is ``None`` then all\n",
      " |          the event handlers of this class will be returned instead.\n",
      " |      \n",
      " |      Returns\n",
      " |      -------\n",
      " |      The event handlers associated with a trait name, or all event handlers.\n",
      " |  \n",
      " |  ----------------------------------------------------------------------\n",
      " |  Data descriptors inherited from traitlets.traitlets.HasTraits:\n",
      " |  \n",
      " |  cross_validation_lock\n",
      " |      A contextmanager for running a block with our cross validation lock set\n",
      " |      to True.\n",
      " |      \n",
      " |      At the end of the block, the lock's value is restored to its value\n",
      " |      prior to entering the block.\n",
      " |  \n",
      " |  ----------------------------------------------------------------------\n",
      " |  Static methods inherited from traitlets.traitlets.HasDescriptors:\n",
      " |  \n",
      " |  __new__(cls, *args, **kwargs)\n",
      " |      Create and return a new object.  See help(type) for accurate signature.\n",
      " |  \n",
      " |  ----------------------------------------------------------------------\n",
      " |  Data descriptors inherited from traitlets.traitlets.HasDescriptors:\n",
      " |  \n",
      " |  __dict__\n",
      " |      dictionary for instance variables (if defined)\n",
      " |  \n",
      " |  __weakref__\n",
      " |      list of weak references to the object (if defined)\n",
      "\n"
     ]
    }
   ],
   "source": [
    "help(Turtle)"
   ]
  },
  {
   "cell_type": "code",
   "execution_count": 4,
   "metadata": {},
   "outputs": [],
   "source": [
    "t.forward(50)"
   ]
  },
  {
   "cell_type": "code",
   "execution_count": 5,
   "metadata": {},
   "outputs": [
    {
     "data": {
      "application/vnd.jupyter.widget-view+json": {
       "model_id": "ba46b8783b894d6eac680ebd1a2b2c25",
       "version_major": 2,
       "version_minor": 0
      },
      "text/plain": [
       "Turtle()"
      ]
     },
     "metadata": {},
     "output_type": "display_data"
    }
   ],
   "source": [
    "t = Turtle ()"
   ]
  },
  {
   "cell_type": "code",
   "execution_count": 6,
   "metadata": {},
   "outputs": [],
   "source": [
    "t.backward(50)"
   ]
  },
  {
   "cell_type": "code",
   "execution_count": 3,
   "metadata": {},
   "outputs": [
    {
     "data": {
      "application/vnd.jupyter.widget-view+json": {
       "model_id": "512878fa411242d3be77e6d3c021ac90",
       "version_major": 2,
       "version_minor": 0
      },
      "text/plain": [
       "Turtle()"
      ]
     },
     "metadata": {},
     "output_type": "display_data"
    }
   ],
   "source": [
    "t = Turtle ()"
   ]
  },
  {
   "cell_type": "code",
   "execution_count": 4,
   "metadata": {},
   "outputs": [],
   "source": [
    "colors = [ \"red\", \"blue\", \"yellow\", \"brown\", \"black\", \"purple\", \"green\"]"
   ]
  },
  {
   "cell_type": "code",
   "execution_count": 5,
   "metadata": {},
   "outputs": [],
   "source": [
    "t.penup (); t.left (90);"
   ]
  },
  {
   "cell_type": "code",
   "execution_count": 6,
   "metadata": {},
   "outputs": [],
   "source": [
    "t.forward(50); t.right (90); t.pendown ()"
   ]
  },
  {
   "cell_type": "code",
   "execution_count": 7,
   "metadata": {},
   "outputs": [],
   "source": [
    "t.home()"
   ]
  },
  {
   "cell_type": "code",
   "execution_count": 8,
   "metadata": {},
   "outputs": [],
   "source": [
    "for i in range (0,7):\n",
    "    t.pencolor (colors [i% 7])\n",
    "    t.right (20)\n",
    "    t.forward (50)\n",
    "t.right (90)\n",
    "t.home()"
   ]
  },
  {
   "cell_type": "code",
   "execution_count": 13,
   "metadata": {},
   "outputs": [
    {
     "data": {
      "application/vnd.jupyter.widget-view+json": {
       "model_id": "a4dfe5f58a8c4149a77f1b76e00d5004",
       "version_major": 2,
       "version_minor": 0
      },
      "text/plain": [
       "Turtle()"
      ]
     },
     "metadata": {},
     "output_type": "display_data"
    }
   ],
   "source": [
    "t = Turtle ()"
   ]
  },
  {
   "cell_type": "code",
   "execution_count": 14,
   "metadata": {},
   "outputs": [
    {
     "data": {
      "application/vnd.jupyter.widget-view+json": {
       "model_id": "84f9a1b441d940f3b21c339e73b605b8",
       "version_major": 2,
       "version_minor": 0
      },
      "text/plain": [
       "Turtle()"
      ]
     },
     "metadata": {},
     "output_type": "display_data"
    }
   ],
   "source": [
    "t = Turtle ()\n",
    "colors = [ \"red\", \"blue\", \"yellow\", \"brown\"]\n",
    "# t.penup (); t.left (90); t.pendown ()\n",
    "for i in range (0,4):\n",
    "    t.pencolor (colors [i% 4])\n",
    "    t.right (90)\n",
    "    #t.left (90)\n",
    "    t.forward (50)\n",
    "t.right (90)\n",
    "t.home()"
   ]
  },
  {
   "cell_type": "code",
   "execution_count": 15,
   "metadata": {},
   "outputs": [
    {
     "data": {
      "application/vnd.jupyter.widget-view+json": {
       "model_id": "1a7150148b0b4036b44b158d08dc181a",
       "version_major": 2,
       "version_minor": 0
      },
      "text/plain": [
       "Turtle()"
      ]
     },
     "metadata": {},
     "output_type": "display_data"
    }
   ],
   "source": [
    "t = Turtle ()\n",
    "colors = [ \"red\", \"blue\", \"yellow\", \"brown\"]\n",
    "t.penup (); t.left (90);t.backward (150); t.pendown ()\n",
    "t.pencolor (colors [i% 4])\n",
    "t.forward (50)\n",
    "t.left (45)\n",
    "t.forward (50)\n",
    "t.left (25)\n",
    "t.forward (50)\n",
    "t.left (45)\n",
    "t.forward (50); t.backward (45); t.left (45); t.forward (40)\n"
   ]
  },
  {
   "cell_type": "markdown",
   "metadata": {},
   "source": [
    "# HOW TO DRAW A TREE"
   ]
  },
  {
   "cell_type": "code",
   "execution_count": 16,
   "metadata": {
    "scrolled": false
   },
   "outputs": [
    {
     "data": {
      "application/vnd.jupyter.widget-view+json": {
       "model_id": "bc7c72a8f2c24be289536e20d28253e5",
       "version_major": 2,
       "version_minor": 0
      },
      "text/plain": [
       "Turtle()"
      ]
     },
     "metadata": {},
     "output_type": "display_data"
    }
   ],
   "source": [
    "t = Turtle ()\n",
    "colors = [ \"red\", \"blue\", \"yellow\", \"brown\"]\n",
    "t.penup(); t.left(90);t.backward(150); t.speed(300); t.pendown()\n",
    "\n",
    "def drawTree(l):\n",
    "    if(l<5):\n",
    "        return\n",
    "    else:\n",
    "        t.pencolor (colors [i% 4])\n",
    "        t.forward(l)\n",
    "        t.left(30)\n",
    "        drawTree(3*l/4)\n",
    "        t.right(60)\n",
    "        drawTree(3*l/4)\n",
    "        t.left(30)\n",
    "        t.backward(l)\n",
    "\n",
    "drawTree(90)\n"
   ]
  },
  {
   "cell_type": "markdown",
   "metadata": {},
   "source": [
    "# HOW TO DRAW A LEAF "
   ]
  },
  {
   "cell_type": "code",
   "execution_count": 17,
   "metadata": {},
   "outputs": [
    {
     "data": {
      "application/vnd.jupyter.widget-view+json": {
       "model_id": "f2406055b36d4881a0b02f8f3a7f42cb",
       "version_major": 2,
       "version_minor": 0
      },
      "text/plain": [
       "Turtle()"
      ]
     },
     "metadata": {},
     "output_type": "display_data"
    }
   ],
   "source": [
    "t = Turtle ()\n",
    "colors = [ \"red\", \"blue\", \"yellow\", \"brown\"]\n",
    "t.penup(); t.left(90);t.backward(150); t.speed(10); t.pendown()\n",
    "t.forward(50); t.backward(30); t.left(60); t.forward(60)\n",
    "t.backward(50); t.right(30); t.forward(50); t.backward(45)\n",
    "t.left(60); t.forward(10); t.backward(10)\n",
    "t.right(60); t.forward(10); t.backward(10)\n",
    "t.left(60); t.forward(10); t.backward(10)\n"
   ]
  },
  {
   "cell_type": "markdown",
   "metadata": {},
   "source": []
  },
  {
   "cell_type": "markdown",
   "metadata": {},
   "source": [
    "# The correct code for drawing a leaf "
   ]
  },
  {
   "cell_type": "code",
   "execution_count": null,
   "metadata": {
    "scrolled": false
   },
   "outputs": [
    {
     "data": {
      "application/vnd.jupyter.widget-view+json": {
       "model_id": "bf5c58a57cd1442aad40739dfbc5e332",
       "version_major": 2,
       "version_minor": 0
      },
      "text/plain": [
       "Turtle()"
      ]
     },
     "metadata": {},
     "output_type": "display_data"
    }
   ],
   "source": [
    "t = Turtle ()\n",
    "colors = [ \"red\", \"blue\", \"yellow\", \"brown\"]\n",
    "t.penup(); t.left(90);t.backward(150); t.speed(160); t.pendown()\n",
    "\n",
    "def fern(size,sign):\n",
    "    if(size<1):\n",
    "        return\n",
    "    else:\n",
    "        t.pencolor (colors [i% 4])\n",
    "        t.forward(size)\n",
    "        t.right(70*sign)\n",
    "        fern(size*0.5, sign*-1)\n",
    "        t.left(70*sign)\n",
    "        t.forward(size)\n",
    "        t.left(70*sign)\n",
    "        fern(size*0.5, sign)\n",
    "        t.right(70*sign)\n",
    "        t.right(7*sign)\n",
    "        fern(size-1, sign)\n",
    "        t.left(7*sign)\n",
    "        t.backward(size*2)\n",
    "        \n",
    "\n",
    "fern(25,1)\n"
   ]
  },
  {
   "cell_type": "code",
   "execution_count": 33,
   "metadata": {},
   "outputs": [],
   "source": []
  },
  {
   "cell_type": "code",
   "execution_count": 34,
   "metadata": {},
   "outputs": [],
   "source": [
    "\n"
   ]
  },
  {
   "cell_type": "code",
   "execution_count": 38,
   "metadata": {},
   "outputs": [],
   "source": []
  },
  {
   "cell_type": "code",
   "execution_count": null,
   "metadata": {},
   "outputs": [],
   "source": []
  }
 ],
 "metadata": {
  "kernelspec": {
   "display_name": "Python 3",
   "language": "python",
   "name": "python3"
  },
  "language_info": {
   "codemirror_mode": {
    "name": "ipython",
    "version": 3
   },
   "file_extension": ".py",
   "mimetype": "text/x-python",
   "name": "python",
   "nbconvert_exporter": "python",
   "pygments_lexer": "ipython3",
   "version": "3.7.4"
  }
 },
 "nbformat": 4,
 "nbformat_minor": 2
}
