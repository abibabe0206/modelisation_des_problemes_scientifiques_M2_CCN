{
 "cells": [
  {
   "cell_type": "markdown",
   "metadata": {},
   "source": [
    "# Tools for Python"
   ]
  },
  {
   "cell_type": "markdown",
   "metadata": {},
   "source": [
    "## pip"
   ]
  },
  {
   "cell_type": "markdown",
   "metadata": {},
   "source": [
    "#### Searching for a package"
   ]
  },
  {
   "cell_type": "code",
   "execution_count": 1,
   "metadata": {},
   "outputs": [
    {
     "name": "stdout",
     "output_type": "stream",
     "text": [
      "astronomy (0.0.1)             - Astronomy!\n",
      "gastropy (0.0dev)             - (g)astronomy\n",
      "catastropy (0.0dev)           - (cat)astronomy\n",
      "skyfield (1.15)               - Elegant astronomy for Python\n",
      "n2-tools (0.0.26)             - tools for astronomy data\n",
      "celespy (0.0.5)               - Generic astronomy functions\n",
      "intake-astro (0.1.1)          - Astronomy plugins for Intake\n",
      "astro-scripts (0.4.0)         - Small scripts for astronomy\n",
      "pykepler (1.0.1)              - Algorithms for positional astronomy\n",
      "palpy (1.8.1)                 - PAL -- A Positional Astronomy Library\n",
      "numina (0.21)                 - Astronomy data reduction library\n",
      "codex-africanus (0.2.0)       - Radio Astronomy Building Blocks\n",
      "acalib (0.1.3)                - Advanced Computing for Astronomy Library\n",
      "gravpy (0.2.1)                - A sandbox for gravitational wave astronomy.\n",
      "sinistra (0.3.3)              - A collection of astronomy related tools.\n",
      "gary (0.1a)                   - Galactic astronomy and gravitational dynamics.\n",
      "hips (0.2)                    - Python astronomy package for HiPS\n",
      "starry (0.3.0)                - Analytic occultation light curves for\n",
      "                                astronomy.\n",
      "rainbow-connection (0.0.1)    - Pedagogical tools for light and color in\n",
      "                                astronomy.\n",
      "astropy (3.2.3)               - Community-developed python astronomy tools\n",
      "  INSTALLED: 3.0.4\n",
      "  LATEST:    3.2.3\n",
      "astrotoyz (0.1.4)             - Astronomy tools built on the Toyz framework\n",
      "experimentsLogReader (2.2.1)  - Log file reader for Radio Astronomy\n",
      "starry-beta (0.3.0)           - Analytic occultation light curves for\n",
      "                                astronomy.\n",
      "mclearn (0.1.6)               - Active learning algorithms with application in\n",
      "                                astronomy.\n",
      "gammapy (0.15)                - A Python package for gamma-ray astronomy\n",
      "pyastroschema (0.5.4)         - Standardized specifications for astronomy and\n",
      "                                astrophysics data.\n",
      "ragavi (0.2.3)                - Radio Astronomy Gain and Visibility Inspector\n",
      "mirapy (0.1.0)                - Python package for Deep Learning in Astronomy\n",
      "fidia (0.4rc1)                - Format Independent Data Interface for\n",
      "                                Astronomy\n",
      "PyAstronomy (0.14.0)          - A collection of astronomy related tools for\n",
      "                                Python.\n",
      "astroobs (1.4.5)              - Provides astronomy ephemeris to plan telescope\n",
      "                                observations\n",
      "DDFacet (0.4.0.0)             - Facet-based radio astronomy continuum imager\n",
      "astroML (0.4.1)               - tools for machine learning and data mining in\n",
      "                                Astronomy\n",
      "sbpy (0.2)                    - A Python Module for Small-Body Planetary\n",
      "                                Astronomy\n",
      "vaex-astro (0.6.1)            - Astronomy related transformations and FITS\n",
      "                                file support\n",
      "astrodbkit (0.6.6)            - Astronomy database management using SQL and\n",
      "                                Python\n",
      "tdd (0.0.4)                   - repo for handling Time Domain Astronomy Data\n",
      "pyzpace (0.0)                 - Zach Pace's astronomy-related python tools\n",
      "python-casacore (3.2.0)       - A wrapper around CASACORE, the radio astronomy\n",
      "                                library\n",
      "astrocats (0.3.37)            - Package for downloading, analyzing, and\n",
      "                                constructing open astronomy catalogs.\n",
      "cadctap (0.9.4.3)             - Client for accessing data at the Canadian\n",
      "                                Astronomy Data Centre\n",
      "drasticali (0.1.1)            - Diverse Radio Astronomy Software Tools for\n",
      "                                Imaging and Calibration\n",
      "novas (3.1.1.4)               - The United States Naval Observatory NOVAS\n",
      "                                astronomy library\n",
      "simspeclib (2.3.0.3)          - SimSpec library. SIMplified SPECtrum reduction\n",
      "                                package for astronomy.\n",
      "katsdpimager (1.0)            - GPU-accelerated radio-astronomy spectral line\n",
      "                                imager\n",
      "cadcetrans (0.9.2)            - Client for transferring data Canadian\n",
      "                                Astronomy Data Centre\n",
      "cadcdata (1.3.1)              - Client for accessing data at the Canadian\n",
      "                                Astronomy Data Centre\n",
      "simspec-lib (2.4.4.0)         - SimSpec library. SIMplified SPECtrum reduction\n",
      "                                package for astronomy.\n",
      "f311 (18.3.1.0)               - Astronomy-related API, command-line tools, and\n",
      "                                windowed applications\n",
      "astrobase (0.4.3)             - Python modules and scripts useful for variable\n",
      "                                star work in astronomy.\n",
      "histastro (0.0.2)             - A Python package for historical-astronomy\n",
      "                                calculations of Sun, Moon and planets\n",
      "astromodels (1.0.1)           - Astromodels contains models to be used in\n",
      "                                likelihood or Bayesian analysis in astronomy\n",
      "simspec (1.11.0)              - User interface for SimSpec. SIMplified\n",
      "                                SPECtrum reduction package for astronomy.\n",
      "cygrid (1.0.1)                - Cygrid is a cython-powered convolution-based\n",
      "                                gridding module for astronomy\n",
      "SWHT (0.1.2)                  - Spherical Wave Harmonic Transform for radio\n",
      "                                astronomy visibility data\n",
      "monashspa (1.4.0)             - Library of useful data analysis tools for\n",
      "                                Monash University Physics & Astronomy students\n",
      "nmmn (0.8.9)                  - Miscellaneous methods for astronomy, dealing\n",
      "                                with arrays, statistical distributions and\n",
      "                                computing goodness-of-fit\n",
      "thefriendlystars (0.0.2)      - Python toolkit for managing catalogs of stars\n",
      "                                including tools for querying popular astronomy\n",
      "                                archives.\n",
      "astropy-stark (1.1.9)         - random-custom astronomy functions including\n",
      "                                making fake accretion disk light curves\n",
      "zogyp (1.4.7)                 - A parallel version of ZOGY image subtraction\n",
      "                                for astronomy, with Proper Co-Addition and\n",
      "                                Image alignment\n",
      "Barak (0.3.2)                 - A set of astronomy-related routines for\n",
      "                                generating Voigt profiles from atomic data,\n",
      "                                reading and writing data, working with SEDs,\n",
      "                                passbands and dust extinction laws.\n",
      "Note: you may need to restart the kernel to use updated packages.\n"
     ]
    }
   ],
   "source": [
    "pip search astronomy"
   ]
  },
  {
   "cell_type": "markdown",
   "metadata": {},
   "source": [
    "#### Install the latest version of a package by specifying a package’s name"
   ]
  },
  {
   "cell_type": "code",
   "execution_count": 5,
   "metadata": {},
   "outputs": [
    {
     "name": "stdout",
     "output_type": "stream",
     "text": [
      "Requirement already satisfied: novas in /home/jnsll/anaconda3/lib/python3.7/site-packages (3.1.1.4)\n",
      "Note: you may need to restart the kernel to use updated packages.\n"
     ]
    }
   ],
   "source": [
    "pip install novas"
   ]
  },
  {
   "cell_type": "markdown",
   "metadata": {},
   "source": [
    "#### Install a specific version of a package by giving the package name followed by == and the version number"
   ]
  },
  {
   "cell_type": "code",
   "execution_count": null,
   "metadata": {},
   "outputs": [],
   "source": [
    "pip install requests==2.6.0"
   ]
  },
  {
   "cell_type": "markdown",
   "metadata": {},
   "source": [
    "#### Upgrade"
   ]
  },
  {
   "cell_type": "code",
   "execution_count": null,
   "metadata": {},
   "outputs": [],
   "source": [
    "pip install --upgrade requests"
   ]
  },
  {
   "cell_type": "markdown",
   "metadata": {},
   "source": [
    "#### Uninstall"
   ]
  },
  {
   "cell_type": "code",
   "execution_count": 9,
   "metadata": {},
   "outputs": [
    {
     "name": "stdout",
     "output_type": "stream",
     "text": [
      "Uninstalling novas-3.1.1.4:\n",
      "  Successfully uninstalled novas-3.1.1.4\n",
      "Note: you may need to restart the kernel to use updated packages.\n"
     ]
    }
   ],
   "source": [
    "pip uninstall novas -y"
   ]
  },
  {
   "cell_type": "markdown",
   "metadata": {},
   "source": [
    "#### Display information about a particular package"
   ]
  },
  {
   "cell_type": "code",
   "execution_count": null,
   "metadata": {},
   "outputs": [],
   "source": [
    "pip show requests"
   ]
  },
  {
   "cell_type": "markdown",
   "metadata": {},
   "source": [
    "#### Display all of the packages installed in the environment"
   ]
  },
  {
   "cell_type": "code",
   "execution_count": 10,
   "metadata": {},
   "outputs": [
    {
     "name": "stdout",
     "output_type": "stream",
     "text": [
      "Package                            Version   \r\n",
      "---------------------------------- ----------\r\n",
      "alabaster                          0.7.11    \r\n",
      "anaconda-client                    1.7.2     \r\n",
      "anaconda-navigator                 1.9.2     \r\n",
      "anaconda-project                   0.8.2     \r\n",
      "appdirs                            1.4.3     \r\n",
      "asn1crypto                         0.24.0    \r\n",
      "astroid                            2.3.3     \r\n",
      "astropy                            3.0.4     \r\n",
      "atomicwrites                       1.2.1     \r\n",
      "attrs                              19.3.0    \r\n",
      "Automat                            0.7.0     \r\n",
      "Babel                              2.6.0     \r\n",
      "backcall                           0.1.0     \r\n",
      "backports.shutil-get-terminal-size 1.0.0     \r\n",
      "beautifulsoup4                     4.6.3     \r\n",
      "bitarray                           0.8.3     \r\n",
      "bkcharts                           0.2       \r\n",
      "blaze                              0.11.3    \r\n",
      "bleach                             3.1.0     \r\n",
      "bokeh                              0.13.0    \r\n",
      "boto                               2.49.0    \r\n",
      "Bottleneck                         1.2.1     \r\n",
      "certifi                            2019.9.11 \r\n",
      "cffi                               1.11.5    \r\n",
      "chardet                            3.0.4     \r\n",
      "click                              6.7       \r\n",
      "cloudpickle                        0.5.5     \r\n",
      "clyent                             1.2.2     \r\n",
      "colorama                           0.3.9     \r\n",
      "conda                              4.5.11    \r\n",
      "conda-build                        3.15.1    \r\n",
      "ConfigSpace                        0.4.11    \r\n",
      "constantly                         15.1.0    \r\n",
      "contextlib2                        0.5.5     \r\n",
      "cryptography                       2.3.1     \r\n",
      "cssselect2                         0.2.2     \r\n",
      "cycler                             0.10.0    \r\n",
      "Cython                             0.28.5    \r\n",
      "cytoolz                            0.9.0.1   \r\n",
      "dask                               0.19.1    \r\n",
      "datashape                          0.5.4     \r\n",
      "decorator                          4.4.1     \r\n",
      "defusedxml                         0.6.0     \r\n",
      "distributed                        1.23.1    \r\n",
      "docutils                           0.14      \r\n",
      "entrypoints                        0.3       \r\n",
      "et-xmlfile                         1.0.1     \r\n",
      "fastcache                          1.0.2     \r\n",
      "filelock                           3.0.8     \r\n",
      "Flask                              1.0.2     \r\n",
      "Flask-Cors                         3.0.6     \r\n",
      "flopy                              3.2.13    \r\n",
      "gevent                             1.3.6     \r\n",
      "glob2                              0.6       \r\n",
      "gmpy2                              2.0.8     \r\n",
      "graphviz                           0.13.2    \r\n",
      "greenlet                           0.4.15    \r\n",
      "h5py                               2.8.0     \r\n",
      "heapdict                           1.0.0     \r\n",
      "html5lib                           1.0.1     \r\n",
      "hyperlink                          18.0.0    \r\n",
      "idna                               2.7       \r\n",
      "imageio                            2.4.1     \r\n",
      "imagesize                          1.1.0     \r\n",
      "importlib                          1.0.4     \r\n",
      "importlib-metadata                 0.23      \r\n",
      "incremental                        17.5.0    \r\n",
      "ipykernel                          5.1.3     \r\n",
      "ipython                            7.9.0     \r\n",
      "ipython-genutils                   0.2.0     \r\n",
      "ipywidgets                         7.5.1     \r\n",
      "isort                              4.3.21    \r\n",
      "itsdangerous                       0.24      \r\n",
      "jdcal                              1.4       \r\n",
      "jedi                               0.15.1    \r\n",
      "jeepney                            0.3.1     \r\n",
      "Jinja2                             2.10.3    \r\n",
      "joblib                             0.14.0    \r\n",
      "jsonschema                         3.2.0     \r\n",
      "jupyter                            1.0.0     \r\n",
      "jupyter-client                     5.3.4     \r\n",
      "jupyter-console                    6.0.0     \r\n",
      "jupyter-core                       4.6.1     \r\n",
      "jupyterlab                         0.34.9    \r\n",
      "jupyterlab-launcher                0.13.1    \r\n",
      "keyring                            13.2.1    \r\n",
      "kiwisolver                         1.1.0     \r\n",
      "lazy-object-proxy                  1.4.3     \r\n",
      "liac-arff                          2.4.0     \r\n",
      "llvmlite                           0.24.0    \r\n",
      "locket                             0.2.0     \r\n",
      "lockfile                           0.12.2    \r\n",
      "lxml                               4.2.5     \r\n",
      "MarkupSafe                         1.1.1     \r\n",
      "matplotlib                         3.1.2     \r\n",
      "mccabe                             0.6.1     \r\n",
      "mistune                            0.8.4     \r\n",
      "mkl-fft                            1.0.4     \r\n",
      "mkl-random                         1.0.1     \r\n",
      "more-itertools                     4.3.0     \r\n",
      "mpmath                             1.0.0     \r\n",
      "msgpack                            0.5.6     \r\n",
      "multipledispatch                   0.6.0     \r\n",
      "navigator-updater                  0.2.1     \r\n",
      "nbconvert                          5.6.1     \r\n",
      "nbformat                           4.4.0     \r\n",
      "networkx                           2.1       \r\n",
      "nltk                               3.3       \r\n",
      "nose                               1.3.7     \r\n",
      "notebook                           6.0.2     \r\n",
      "numba                              0.39.0    \r\n",
      "numexpr                            2.6.8     \r\n",
      "numpy                              1.17.4    \r\n",
      "numpydoc                           0.8.0     \r\n",
      "odo                                0.5.1     \r\n",
      "olefile                            0.46      \r\n",
      "openpyxl                           2.5.6     \r\n",
      "packaging                          17.1      \r\n",
      "pandas                             0.25.3    \r\n",
      "pandocfilters                      1.4.2     \r\n",
      "parso                              0.5.1     \r\n",
      "partd                              0.3.8     \r\n",
      "path.py                            11.1.0    \r\n",
      "pathlib2                           2.3.2     \r\n",
      "patsy                              0.5.0     \r\n",
      "pep8                               1.7.1     \r\n",
      "pexpect                            4.7.0     \r\n",
      "pickleshare                        0.7.5     \r\n",
      "Pillow                             5.2.0     \r\n",
      "pip                                19.3.1    \r\n",
      "pipenv                             2018.11.26\r\n",
      "pkginfo                            1.4.2     \r\n",
      "pluggy                             0.7.1     \r\n",
      "ply                                3.11      \r\n",
      "prometheus-client                  0.7.1     \r\n",
      "prompt-toolkit                     2.0.10    \r\n",
      "psutil                             5.4.7     \r\n",
      "ptyprocess                         0.6.0     \r\n",
      "py                                 1.6.0     \r\n",
      "pyasn1                             0.4.4     \r\n",
      "pyasn1-modules                     0.2.2     \r\n",
      "pycodestyle                        2.4.0     \r\n",
      "pycosat                            0.6.3     \r\n",
      "pycparser                          2.18      \r\n",
      "pycrypto                           2.6.1     \r\n",
      "pycurl                             7.43.0.2  \r\n",
      "pyflakes                           2.0.0     \r\n",
      "Pygments                           2.4.2     \r\n",
      "pylint                             2.4.4     \r\n",
      "pynisher                           0.5.0     \r\n",
      "pyodbc                             4.0.24    \r\n",
      "pyOpenSSL                          18.0.0    \r\n",
      "pyparsing                          2.2.0     \r\n",
      "PyPDF2                             1.26.0    \r\n",
      "pyrfr                              0.7.4     \r\n",
      "pyrsistent                         0.15.6    \r\n",
      "PySocks                            1.6.8     \r\n",
      "pytest                             3.8.0     \r\n",
      "pytest-arraydiff                   0.2       \r\n",
      "pytest-astropy                     0.4.0     \r\n",
      "pytest-doctestplus                 0.1.3     \r\n",
      "pytest-openfiles                   0.3.0     \r\n",
      "pytest-remotedata                  0.3.0     \r\n",
      "python-dateutil                    2.8.1     \r\n",
      "pytz                               2019.3    \r\n",
      "PyWavelets                         1.0.0     \r\n",
      "PyYAML                             3.13      \r\n",
      "pyzmq                              18.1.1    \r\n",
      "QtAwesome                          0.4.4     \r\n",
      "qtconsole                          4.6.0     \r\n",
      "QtPy                               1.5.0     \r\n",
      "reportlab                          3.5.32    \r\n",
      "requests                           2.19.1    \r\n",
      "rope                               0.11.0    \r\n",
      "ruamel-yaml                        0.15.46   \r\n",
      "scikit-image                       0.14.0    \r\n",
      "scikit-learn                       0.22      \r\n",
      "scipy                              1.3.3     \r\n",
      "seaborn                            0.9.0     \r\n",
      "SecretStorage                      3.1.0     \r\n",
      "Send2Trash                         1.5.0     \r\n",
      "service-identity                   17.0.0    \r\n",
      "setuptools                         40.2.0    \r\n",
      "simplegeneric                      0.8.1     \r\n",
      "singledispatch                     3.4.0.3   \r\n",
      "six                                1.11.0    \r\n",
      "smac                               0.8.0     \r\n",
      "snowballstemmer                    1.2.1     \r\n",
      "sortedcollections                  1.0.1     \r\n",
      "sortedcontainers                   2.0.5     \r\n",
      "Sphinx                             1.7.9     \r\n",
      "sphinx-rtd-theme                   0.4.3     \r\n",
      "sphinxcontrib-websupport           1.1.0     \r\n",
      "spyder                             3.3.1     \r\n",
      "spyder-kernels                     0.2.6     \r\n",
      "SQLAlchemy                         1.2.11    \r\n",
      "statsmodels                        0.9.0     \r\n",
      "svglib                             0.9.3     \r\n",
      "swing                              0.0.4     \r\n",
      "sympy                              1.2       \r\n",
      "tables                             3.4.4     \r\n",
      "tblib                              1.3.2     \r\n",
      "terminado                          0.8.3     \r\n",
      "testpath                           0.4.4     \r\n",
      "tinycss2                           1.0.2     \r\n",
      "toolz                              0.9.0     \r\n",
      "tornado                            6.0.3     \r\n",
      "tqdm                               4.26.0    \r\n",
      "traitlets                          4.3.3     \r\n",
      "Twisted                            18.7.0    \r\n",
      "typed-ast                          1.4.0     \r\n",
      "typing                             3.7.4.1   \r\n",
      "unicodecsv                         0.14.1    \r\n",
      "urllib3                            1.23      \r\n",
      "virtualenv                         16.7.8    \r\n",
      "virtualenv-clone                   0.5.3     \r\n",
      "wcwidth                            0.1.7     \r\n",
      "webencodings                       0.5.1     \r\n",
      "Werkzeug                           0.14.1    \r\n",
      "wheel                              0.31.1    \r\n",
      "widgetsnbextension                 3.5.1     \r\n",
      "wrapt                              1.11.2    \r\n",
      "xdg                                4.0.1     \r\n",
      "xgboost                            0.90      \r\n",
      "xlrd                               1.1.0     \r\n",
      "XlsxWriter                         1.1.0     \r\n",
      "xlwt                               1.3.0     \r\n",
      "zict                               0.1.3     \r\n",
      "zipp                               0.6.0     \r\n",
      "zope.interface                     4.5.0     \r\n"
     ]
    },
    {
     "name": "stdout",
     "output_type": "stream",
     "text": [
      "Note: you may need to restart the kernel to use updated packages.\n"
     ]
    }
   ],
   "source": [
    "pip list"
   ]
  },
  {
   "cell_type": "markdown",
   "metadata": {},
   "source": [
    "#### Display list of packages installed but in the 'pip install' format"
   ]
  },
  {
   "cell_type": "markdown",
   "metadata": {},
   "source": [
    "pip freeze > requirements.txt\n",
    "cat requirements.txt"
   ]
  },
  {
   "cell_type": "markdown",
   "metadata": {},
   "source": [
    "#### Installation of all the necessary packages with the requirements file"
   ]
  },
  {
   "cell_type": "code",
   "execution_count": null,
   "metadata": {},
   "outputs": [],
   "source": [
    " pip install -r requirements.txt"
   ]
  },
  {
   "cell_type": "markdown",
   "metadata": {},
   "source": [
    "## Pyenv"
   ]
  },
  {
   "cell_type": "markdown",
   "metadata": {},
   "source": [
    "### Sets the global version of Python to be used in all shells"
   ]
  },
  {
   "cell_type": "code",
   "execution_count": null,
   "metadata": {},
   "outputs": [],
   "source": [
    "pyenv global"
   ]
  },
  {
   "cell_type": "markdown",
   "metadata": {},
   "source": [
    "### Sets a local application-specific Python version"
   ]
  },
  {
   "cell_type": "code",
   "execution_count": 13,
   "metadata": {},
   "outputs": [
    {
     "ename": "SyntaxError",
     "evalue": "invalid syntax (<ipython-input-13-89aa68aa03be>, line 1)",
     "output_type": "error",
     "traceback": [
      "\u001b[0;36m  File \u001b[0;32m\"<ipython-input-13-89aa68aa03be>\"\u001b[0;36m, line \u001b[0;32m1\u001b[0m\n\u001b[0;31m    pyenv local 3.7.0\u001b[0m\n\u001b[0m              ^\u001b[0m\n\u001b[0;31mSyntaxError\u001b[0m\u001b[0;31m:\u001b[0m invalid syntax\n"
     ]
    }
   ],
   "source": [
    "pyenv local 3.7.0"
   ]
  },
  {
   "cell_type": "markdown",
   "metadata": {},
   "source": [
    "### Install a specific version"
   ]
  },
  {
   "cell_type": "code",
   "execution_count": null,
   "metadata": {},
   "outputs": [],
   "source": [
    "pyenv install --list"
   ]
  },
  {
   "cell_type": "code",
   "execution_count": 16,
   "metadata": {},
   "outputs": [
    {
     "ename": "SyntaxError",
     "evalue": "invalid syntax (<ipython-input-16-929c6592027c>, line 1)",
     "output_type": "error",
     "traceback": [
      "\u001b[0;36m  File \u001b[0;32m\"<ipython-input-16-929c6592027c>\"\u001b[0;36m, line \u001b[0;32m1\u001b[0m\n\u001b[0;31m    pyenv install --3.8.0\u001b[0m\n\u001b[0m                ^\u001b[0m\n\u001b[0;31mSyntaxError\u001b[0m\u001b[0;31m:\u001b[0m invalid syntax\n"
     ]
    }
   ],
   "source": [
    "pyenv install --3.8.0"
   ]
  },
  {
   "cell_type": "code",
   "execution_count": null,
   "metadata": {},
   "outputs": [],
   "source": [
    "pyenv versions"
   ]
  }
 ],
 "metadata": {
  "kernelspec": {
   "display_name": "Python 3",
   "language": "python",
   "name": "python3"
  },
  "language_info": {
   "codemirror_mode": {
    "name": "ipython",
    "version": 3
   },
   "file_extension": ".py",
   "mimetype": "text/x-python",
   "name": "python",
   "nbconvert_exporter": "python",
   "pygments_lexer": "ipython3",
   "version": "3.8.1"
  }
 },
 "nbformat": 4,
 "nbformat_minor": 2
}
