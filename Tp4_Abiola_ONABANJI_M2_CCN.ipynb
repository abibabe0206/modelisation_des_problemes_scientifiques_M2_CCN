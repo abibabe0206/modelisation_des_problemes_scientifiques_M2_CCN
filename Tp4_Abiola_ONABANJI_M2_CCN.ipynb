{
 "cells": [
  {
   "cell_type": "markdown",
   "metadata": {},
   "source": [
    "# Harry Potter Game"
   ]
  },
  {
   "cell_type": "code",
   "execution_count": 1,
   "metadata": {},
   "outputs": [
    {
     "name": "stdout",
     "output_type": "stream",
     "text": [
      "[[0, 1, 2, 0, 0, 1, 3]]\n"
     ]
    }
   ],
   "source": [
    "from collections import Counter\n",
    "\"Each of the 7 boxes can contain 4 different potions (poison, wine, forward, backward) coded 0, 1, 2, 3\"\n",
    "def harry_potter(case):\n",
    "    if case[1] != case[5]: return False\n",
    "    if case[5] == 0: return False\n",
    "    if case[2] == 0: return False\n",
    "    if case[0] == case[6] : return False\n",
    "    if case[0] == 2: return False\n",
    "    if case[6] == 2: return False\n",
    "    c = Counter(case)\n",
    "    if c[0] != 3: return False\n",
    "    if c[1] != 2: return False\n",
    "    if c[2] != 1: return False\n",
    "    if c[3] != 1: return False\n",
    "    for k in range(1, 7):\n",
    "        if case[k] == 1 and case[k-1] != 0:\n",
    "            return False\n",
    "    return True\n",
    "result = []\n",
    "for i in range(4**6):\n",
    "    l = [(i % (4**k)) // (4**(k-1)) for k in range(1,7)]\n",
    "    l.insert(5, l[1])\n",
    "    if harry_potter(l):\n",
    "        result.append(l)\n",
    "print(result)"
   ]
  },
  {
   "cell_type": "code",
   "execution_count": null,
   "metadata": {},
   "outputs": [],
   "source": []
  }
 ],
 "metadata": {
  "kernelspec": {
   "display_name": "Python 3",
   "language": "python",
   "name": "python3"
  },
  "language_info": {
   "codemirror_mode": {
    "name": "ipython",
    "version": 3
   },
   "file_extension": ".py",
   "mimetype": "text/x-python",
   "name": "python",
   "nbconvert_exporter": "python",
   "pygments_lexer": "ipython3",
   "version": "3.7.4"
  }
 },
 "nbformat": 4,
 "nbformat_minor": 2
}
