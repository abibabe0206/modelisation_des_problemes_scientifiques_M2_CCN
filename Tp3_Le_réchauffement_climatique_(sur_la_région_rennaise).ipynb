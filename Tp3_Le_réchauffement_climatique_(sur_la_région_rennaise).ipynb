{
 "cells": [
  {
   "cell_type": "markdown",
   "metadata": {},
   "source": [
    "# TP 3 : Le réchauffement climatique (sur la région rennaise)"
   ]
  },
  {
   "cell_type": "markdown",
   "metadata": {},
   "source": [
    "# 1) Imports"
   ]
  },
  {
   "cell_type": "markdown",
   "metadata": {},
   "source": [
    "## 1) a-] Importez les libraries suivantes"
   ]
  },
  {
   "cell_type": "markdown",
   "metadata": {},
   "source": [
    "* numpy\n",
    "* matplotlib\n",
    "* pandas\n",
    "* scipy (module stats)"
   ]
  },
  {
   "cell_type": "code",
   "execution_count": 1,
   "metadata": {},
   "outputs": [],
   "source": [
    "import numpy as np\n",
    "import matplotlib.pyplot as plt\n",
    "import pandas as pd\n",
    "import scipy\n",
    "from sklearn.linear_model import LinearRegression\n",
    "\n",
    "%matplotlib inline"
   ]
  },
  {
   "cell_type": "markdown",
   "metadata": {},
   "source": [
    "## 1) b-] Importez les données sous forme de dataframe, et affichez les cinq premières lignes\n",
    "\n",
    "Pensez à enlever le texte au dessus des données dans le fichier texte.\n",
    "\n",
    "On pourra utiliser numpy dans un premier temps, puis utliser pandas pour transformer le tableau en dataframe."
   ]
  },
  {
   "cell_type": "code",
   "execution_count": 2,
   "metadata": {},
   "outputs": [
    {
     "data": {
      "text/html": [
       "<div>\n",
       "<style scoped>\n",
       "    .dataframe tbody tr th:only-of-type {\n",
       "        vertical-align: middle;\n",
       "    }\n",
       "\n",
       "    .dataframe tbody tr th {\n",
       "        vertical-align: top;\n",
       "    }\n",
       "\n",
       "    .dataframe thead th {\n",
       "        text-align: right;\n",
       "    }\n",
       "</style>\n",
       "<table border=\"1\" class=\"dataframe\">\n",
       "  <thead>\n",
       "    <tr style=\"text-align: right;\">\n",
       "      <th></th>\n",
       "      <th>station_id</th>\n",
       "      <th>source_id</th>\n",
       "      <th>date</th>\n",
       "      <th>temp_dixieme</th>\n",
       "      <th>quality_code</th>\n",
       "    </tr>\n",
       "  </thead>\n",
       "  <tbody>\n",
       "    <tr>\n",
       "      <td>0</td>\n",
       "      <td>322</td>\n",
       "      <td>6713</td>\n",
       "      <td>19450101</td>\n",
       "      <td>30</td>\n",
       "      <td>0</td>\n",
       "    </tr>\n",
       "    <tr>\n",
       "      <td>1</td>\n",
       "      <td>322</td>\n",
       "      <td>6713</td>\n",
       "      <td>19450102</td>\n",
       "      <td>13</td>\n",
       "      <td>0</td>\n",
       "    </tr>\n",
       "    <tr>\n",
       "      <td>2</td>\n",
       "      <td>322</td>\n",
       "      <td>6713</td>\n",
       "      <td>19450103</td>\n",
       "      <td>38</td>\n",
       "      <td>0</td>\n",
       "    </tr>\n",
       "    <tr>\n",
       "      <td>3</td>\n",
       "      <td>322</td>\n",
       "      <td>6713</td>\n",
       "      <td>19450104</td>\n",
       "      <td>20</td>\n",
       "      <td>0</td>\n",
       "    </tr>\n",
       "    <tr>\n",
       "      <td>4</td>\n",
       "      <td>322</td>\n",
       "      <td>6713</td>\n",
       "      <td>19450105</td>\n",
       "      <td>41</td>\n",
       "      <td>0</td>\n",
       "    </tr>\n",
       "    <tr>\n",
       "      <td>...</td>\n",
       "      <td>...</td>\n",
       "      <td>...</td>\n",
       "      <td>...</td>\n",
       "      <td>...</td>\n",
       "      <td>...</td>\n",
       "    </tr>\n",
       "    <tr>\n",
       "      <td>27357</td>\n",
       "      <td>322</td>\n",
       "      <td>907130</td>\n",
       "      <td>20191126</td>\n",
       "      <td>125</td>\n",
       "      <td>0</td>\n",
       "    </tr>\n",
       "    <tr>\n",
       "      <td>27358</td>\n",
       "      <td>322</td>\n",
       "      <td>907130</td>\n",
       "      <td>20191127</td>\n",
       "      <td>118</td>\n",
       "      <td>0</td>\n",
       "    </tr>\n",
       "    <tr>\n",
       "      <td>27359</td>\n",
       "      <td>322</td>\n",
       "      <td>907130</td>\n",
       "      <td>20191128</td>\n",
       "      <td>115</td>\n",
       "      <td>0</td>\n",
       "    </tr>\n",
       "    <tr>\n",
       "      <td>27360</td>\n",
       "      <td>322</td>\n",
       "      <td>907130</td>\n",
       "      <td>20191129</td>\n",
       "      <td>92</td>\n",
       "      <td>0</td>\n",
       "    </tr>\n",
       "    <tr>\n",
       "      <td>27361</td>\n",
       "      <td>322</td>\n",
       "      <td>907130</td>\n",
       "      <td>20191130</td>\n",
       "      <td>68</td>\n",
       "      <td>0</td>\n",
       "    </tr>\n",
       "  </tbody>\n",
       "</table>\n",
       "<p>27362 rows × 5 columns</p>\n",
       "</div>"
      ],
      "text/plain": [
       "       station_id  source_id      date  temp_dixieme  quality_code\n",
       "0             322       6713  19450101            30             0\n",
       "1             322       6713  19450102            13             0\n",
       "2             322       6713  19450103            38             0\n",
       "3             322       6713  19450104            20             0\n",
       "4             322       6713  19450105            41             0\n",
       "...           ...        ...       ...           ...           ...\n",
       "27357         322     907130  20191126           125             0\n",
       "27358         322     907130  20191127           118             0\n",
       "27359         322     907130  20191128           115             0\n",
       "27360         322     907130  20191129            92             0\n",
       "27361         322     907130  20191130            68             0\n",
       "\n",
       "[27362 rows x 5 columns]"
      ]
     },
     "execution_count": 2,
     "metadata": {},
     "output_type": "execute_result"
    }
   ],
   "source": [
    "data = np.loadtxt('st_jacques.txt', delimiter=',', dtype=int)\n",
    "temp = pd.DataFrame(data, columns = ['station_id', 'source_id', 'date', 'temp_dixieme', 'quality_code'])\n",
    "temp"
   ]
  },
  {
   "cell_type": "markdown",
   "metadata": {},
   "source": [
    "# 2) Qualité des données"
   ]
  },
  {
   "cell_type": "markdown",
   "metadata": {},
   "source": [
    "## 2) a-] Trouvez les données manquantes ou suspectes dans le jeu de données, et enlevez-les.\n",
    "\n",
    "Pensez à utiliser la variable quality code, qui contient des informations sur la qualité des données.\n",
    "\n",
    "* 30-34 Q_TG : quality code for TG (0='valid'; 1='suspect'; 9='missing')"
   ]
  },
  {
   "cell_type": "code",
   "execution_count": 3,
   "metadata": {},
   "outputs": [
    {
     "data": {
      "text/html": [
       "<div>\n",
       "<style scoped>\n",
       "    .dataframe tbody tr th:only-of-type {\n",
       "        vertical-align: middle;\n",
       "    }\n",
       "\n",
       "    .dataframe tbody tr th {\n",
       "        vertical-align: top;\n",
       "    }\n",
       "\n",
       "    .dataframe thead th {\n",
       "        text-align: right;\n",
       "    }\n",
       "</style>\n",
       "<table border=\"1\" class=\"dataframe\">\n",
       "  <thead>\n",
       "    <tr style=\"text-align: right;\">\n",
       "      <th></th>\n",
       "      <th>station_id</th>\n",
       "      <th>source_id</th>\n",
       "      <th>date</th>\n",
       "      <th>temp_dixieme</th>\n",
       "      <th>quality_code</th>\n",
       "    </tr>\n",
       "  </thead>\n",
       "  <tbody>\n",
       "    <tr>\n",
       "      <td>21400</td>\n",
       "      <td>322</td>\n",
       "      <td>907130</td>\n",
       "      <td>20030805</td>\n",
       "      <td>318</td>\n",
       "      <td>1</td>\n",
       "    </tr>\n",
       "    <tr>\n",
       "      <td>26866</td>\n",
       "      <td>322</td>\n",
       "      <td>907130</td>\n",
       "      <td>20180723</td>\n",
       "      <td>-9999</td>\n",
       "      <td>9</td>\n",
       "    </tr>\n",
       "    <tr>\n",
       "      <td>26867</td>\n",
       "      <td>322</td>\n",
       "      <td>907130</td>\n",
       "      <td>20180724</td>\n",
       "      <td>-9999</td>\n",
       "      <td>9</td>\n",
       "    </tr>\n",
       "    <tr>\n",
       "      <td>26868</td>\n",
       "      <td>322</td>\n",
       "      <td>907130</td>\n",
       "      <td>20180725</td>\n",
       "      <td>-9999</td>\n",
       "      <td>9</td>\n",
       "    </tr>\n",
       "    <tr>\n",
       "      <td>26869</td>\n",
       "      <td>322</td>\n",
       "      <td>907130</td>\n",
       "      <td>20180726</td>\n",
       "      <td>-9999</td>\n",
       "      <td>9</td>\n",
       "    </tr>\n",
       "    <tr>\n",
       "      <td>26870</td>\n",
       "      <td>322</td>\n",
       "      <td>907130</td>\n",
       "      <td>20180727</td>\n",
       "      <td>-9999</td>\n",
       "      <td>9</td>\n",
       "    </tr>\n",
       "    <tr>\n",
       "      <td>26871</td>\n",
       "      <td>322</td>\n",
       "      <td>907130</td>\n",
       "      <td>20180728</td>\n",
       "      <td>-9999</td>\n",
       "      <td>9</td>\n",
       "    </tr>\n",
       "    <tr>\n",
       "      <td>26872</td>\n",
       "      <td>322</td>\n",
       "      <td>907130</td>\n",
       "      <td>20180729</td>\n",
       "      <td>-9999</td>\n",
       "      <td>9</td>\n",
       "    </tr>\n",
       "    <tr>\n",
       "      <td>26873</td>\n",
       "      <td>322</td>\n",
       "      <td>907130</td>\n",
       "      <td>20180730</td>\n",
       "      <td>-9999</td>\n",
       "      <td>9</td>\n",
       "    </tr>\n",
       "    <tr>\n",
       "      <td>26874</td>\n",
       "      <td>322</td>\n",
       "      <td>907130</td>\n",
       "      <td>20180731</td>\n",
       "      <td>-9999</td>\n",
       "      <td>9</td>\n",
       "    </tr>\n",
       "    <tr>\n",
       "      <td>26875</td>\n",
       "      <td>322</td>\n",
       "      <td>907130</td>\n",
       "      <td>20180801</td>\n",
       "      <td>-9999</td>\n",
       "      <td>9</td>\n",
       "    </tr>\n",
       "    <tr>\n",
       "      <td>26876</td>\n",
       "      <td>322</td>\n",
       "      <td>907130</td>\n",
       "      <td>20180802</td>\n",
       "      <td>-9999</td>\n",
       "      <td>9</td>\n",
       "    </tr>\n",
       "    <tr>\n",
       "      <td>26877</td>\n",
       "      <td>322</td>\n",
       "      <td>907130</td>\n",
       "      <td>20180803</td>\n",
       "      <td>-9999</td>\n",
       "      <td>9</td>\n",
       "    </tr>\n",
       "    <tr>\n",
       "      <td>26878</td>\n",
       "      <td>322</td>\n",
       "      <td>907130</td>\n",
       "      <td>20180804</td>\n",
       "      <td>-9999</td>\n",
       "      <td>9</td>\n",
       "    </tr>\n",
       "    <tr>\n",
       "      <td>26879</td>\n",
       "      <td>322</td>\n",
       "      <td>907130</td>\n",
       "      <td>20180805</td>\n",
       "      <td>-9999</td>\n",
       "      <td>9</td>\n",
       "    </tr>\n",
       "    <tr>\n",
       "      <td>26880</td>\n",
       "      <td>322</td>\n",
       "      <td>907130</td>\n",
       "      <td>20180806</td>\n",
       "      <td>-9999</td>\n",
       "      <td>9</td>\n",
       "    </tr>\n",
       "    <tr>\n",
       "      <td>26881</td>\n",
       "      <td>322</td>\n",
       "      <td>907130</td>\n",
       "      <td>20180807</td>\n",
       "      <td>-9999</td>\n",
       "      <td>9</td>\n",
       "    </tr>\n",
       "    <tr>\n",
       "      <td>26882</td>\n",
       "      <td>322</td>\n",
       "      <td>907130</td>\n",
       "      <td>20180808</td>\n",
       "      <td>-9999</td>\n",
       "      <td>9</td>\n",
       "    </tr>\n",
       "    <tr>\n",
       "      <td>26883</td>\n",
       "      <td>322</td>\n",
       "      <td>907130</td>\n",
       "      <td>20180809</td>\n",
       "      <td>-9999</td>\n",
       "      <td>9</td>\n",
       "    </tr>\n",
       "    <tr>\n",
       "      <td>26884</td>\n",
       "      <td>322</td>\n",
       "      <td>907130</td>\n",
       "      <td>20180810</td>\n",
       "      <td>-9999</td>\n",
       "      <td>9</td>\n",
       "    </tr>\n",
       "    <tr>\n",
       "      <td>26885</td>\n",
       "      <td>322</td>\n",
       "      <td>907130</td>\n",
       "      <td>20180811</td>\n",
       "      <td>-9999</td>\n",
       "      <td>9</td>\n",
       "    </tr>\n",
       "  </tbody>\n",
       "</table>\n",
       "</div>"
      ],
      "text/plain": [
       "       station_id  source_id      date  temp_dixieme  quality_code\n",
       "21400         322     907130  20030805           318             1\n",
       "26866         322     907130  20180723         -9999             9\n",
       "26867         322     907130  20180724         -9999             9\n",
       "26868         322     907130  20180725         -9999             9\n",
       "26869         322     907130  20180726         -9999             9\n",
       "26870         322     907130  20180727         -9999             9\n",
       "26871         322     907130  20180728         -9999             9\n",
       "26872         322     907130  20180729         -9999             9\n",
       "26873         322     907130  20180730         -9999             9\n",
       "26874         322     907130  20180731         -9999             9\n",
       "26875         322     907130  20180801         -9999             9\n",
       "26876         322     907130  20180802         -9999             9\n",
       "26877         322     907130  20180803         -9999             9\n",
       "26878         322     907130  20180804         -9999             9\n",
       "26879         322     907130  20180805         -9999             9\n",
       "26880         322     907130  20180806         -9999             9\n",
       "26881         322     907130  20180807         -9999             9\n",
       "26882         322     907130  20180808         -9999             9\n",
       "26883         322     907130  20180809         -9999             9\n",
       "26884         322     907130  20180810         -9999             9\n",
       "26885         322     907130  20180811         -9999             9"
      ]
     },
     "execution_count": 3,
     "metadata": {},
     "output_type": "execute_result"
    }
   ],
   "source": [
    "temp.query('quality_code!=0')"
   ]
  },
  {
   "cell_type": "markdown",
   "metadata": {},
   "source": [
    "Principalement des données manquantes de juillet-août 2018, et une donnée suspecte de 2003."
   ]
  },
  {
   "cell_type": "code",
   "execution_count": 4,
   "metadata": {},
   "outputs": [
    {
     "data": {
      "text/html": [
       "<div>\n",
       "<style scoped>\n",
       "    .dataframe tbody tr th:only-of-type {\n",
       "        vertical-align: middle;\n",
       "    }\n",
       "\n",
       "    .dataframe tbody tr th {\n",
       "        vertical-align: top;\n",
       "    }\n",
       "\n",
       "    .dataframe thead th {\n",
       "        text-align: right;\n",
       "    }\n",
       "</style>\n",
       "<table border=\"1\" class=\"dataframe\">\n",
       "  <thead>\n",
       "    <tr style=\"text-align: right;\">\n",
       "      <th></th>\n",
       "      <th>station_id</th>\n",
       "      <th>source_id</th>\n",
       "      <th>date</th>\n",
       "      <th>temp_dixieme</th>\n",
       "      <th>quality_code</th>\n",
       "    </tr>\n",
       "  </thead>\n",
       "  <tbody>\n",
       "    <tr>\n",
       "      <td>0</td>\n",
       "      <td>322</td>\n",
       "      <td>6713</td>\n",
       "      <td>19450101</td>\n",
       "      <td>30</td>\n",
       "      <td>0</td>\n",
       "    </tr>\n",
       "    <tr>\n",
       "      <td>1</td>\n",
       "      <td>322</td>\n",
       "      <td>6713</td>\n",
       "      <td>19450102</td>\n",
       "      <td>13</td>\n",
       "      <td>0</td>\n",
       "    </tr>\n",
       "    <tr>\n",
       "      <td>2</td>\n",
       "      <td>322</td>\n",
       "      <td>6713</td>\n",
       "      <td>19450103</td>\n",
       "      <td>38</td>\n",
       "      <td>0</td>\n",
       "    </tr>\n",
       "    <tr>\n",
       "      <td>3</td>\n",
       "      <td>322</td>\n",
       "      <td>6713</td>\n",
       "      <td>19450104</td>\n",
       "      <td>20</td>\n",
       "      <td>0</td>\n",
       "    </tr>\n",
       "    <tr>\n",
       "      <td>4</td>\n",
       "      <td>322</td>\n",
       "      <td>6713</td>\n",
       "      <td>19450105</td>\n",
       "      <td>41</td>\n",
       "      <td>0</td>\n",
       "    </tr>\n",
       "  </tbody>\n",
       "</table>\n",
       "</div>"
      ],
      "text/plain": [
       "   station_id  source_id      date  temp_dixieme  quality_code\n",
       "0         322       6713  19450101            30             0\n",
       "1         322       6713  19450102            13             0\n",
       "2         322       6713  19450103            38             0\n",
       "3         322       6713  19450104            20             0\n",
       "4         322       6713  19450105            41             0"
      ]
     },
     "execution_count": 4,
     "metadata": {},
     "output_type": "execute_result"
    }
   ],
   "source": [
    "temp = temp.query('quality_code==0')\n",
    "temp.head()"
   ]
  },
  {
   "cell_type": "code",
   "execution_count": 5,
   "metadata": {},
   "outputs": [
    {
     "data": {
      "text/html": [
       "<div>\n",
       "<style scoped>\n",
       "    .dataframe tbody tr th:only-of-type {\n",
       "        vertical-align: middle;\n",
       "    }\n",
       "\n",
       "    .dataframe tbody tr th {\n",
       "        vertical-align: top;\n",
       "    }\n",
       "\n",
       "    .dataframe thead th {\n",
       "        text-align: right;\n",
       "    }\n",
       "</style>\n",
       "<table border=\"1\" class=\"dataframe\">\n",
       "  <thead>\n",
       "    <tr style=\"text-align: right;\">\n",
       "      <th></th>\n",
       "      <th>station_id</th>\n",
       "      <th>source_id</th>\n",
       "      <th>date</th>\n",
       "      <th>temp_dixieme</th>\n",
       "      <th>quality_code</th>\n",
       "    </tr>\n",
       "  </thead>\n",
       "  <tbody>\n",
       "    <tr>\n",
       "      <td>0</td>\n",
       "      <td>322</td>\n",
       "      <td>6713</td>\n",
       "      <td>19450101</td>\n",
       "      <td>30</td>\n",
       "      <td>0</td>\n",
       "    </tr>\n",
       "    <tr>\n",
       "      <td>1</td>\n",
       "      <td>322</td>\n",
       "      <td>6713</td>\n",
       "      <td>19450102</td>\n",
       "      <td>13</td>\n",
       "      <td>0</td>\n",
       "    </tr>\n",
       "    <tr>\n",
       "      <td>2</td>\n",
       "      <td>322</td>\n",
       "      <td>6713</td>\n",
       "      <td>19450103</td>\n",
       "      <td>38</td>\n",
       "      <td>0</td>\n",
       "    </tr>\n",
       "    <tr>\n",
       "      <td>3</td>\n",
       "      <td>322</td>\n",
       "      <td>6713</td>\n",
       "      <td>19450104</td>\n",
       "      <td>20</td>\n",
       "      <td>0</td>\n",
       "    </tr>\n",
       "    <tr>\n",
       "      <td>4</td>\n",
       "      <td>322</td>\n",
       "      <td>6713</td>\n",
       "      <td>19450105</td>\n",
       "      <td>41</td>\n",
       "      <td>0</td>\n",
       "    </tr>\n",
       "    <tr>\n",
       "      <td>...</td>\n",
       "      <td>...</td>\n",
       "      <td>...</td>\n",
       "      <td>...</td>\n",
       "      <td>...</td>\n",
       "      <td>...</td>\n",
       "    </tr>\n",
       "    <tr>\n",
       "      <td>27357</td>\n",
       "      <td>322</td>\n",
       "      <td>907130</td>\n",
       "      <td>20191126</td>\n",
       "      <td>125</td>\n",
       "      <td>0</td>\n",
       "    </tr>\n",
       "    <tr>\n",
       "      <td>27358</td>\n",
       "      <td>322</td>\n",
       "      <td>907130</td>\n",
       "      <td>20191127</td>\n",
       "      <td>118</td>\n",
       "      <td>0</td>\n",
       "    </tr>\n",
       "    <tr>\n",
       "      <td>27359</td>\n",
       "      <td>322</td>\n",
       "      <td>907130</td>\n",
       "      <td>20191128</td>\n",
       "      <td>115</td>\n",
       "      <td>0</td>\n",
       "    </tr>\n",
       "    <tr>\n",
       "      <td>27360</td>\n",
       "      <td>322</td>\n",
       "      <td>907130</td>\n",
       "      <td>20191129</td>\n",
       "      <td>92</td>\n",
       "      <td>0</td>\n",
       "    </tr>\n",
       "    <tr>\n",
       "      <td>27361</td>\n",
       "      <td>322</td>\n",
       "      <td>907130</td>\n",
       "      <td>20191130</td>\n",
       "      <td>68</td>\n",
       "      <td>0</td>\n",
       "    </tr>\n",
       "  </tbody>\n",
       "</table>\n",
       "<p>27341 rows × 5 columns</p>\n",
       "</div>"
      ],
      "text/plain": [
       "       station_id  source_id      date  temp_dixieme  quality_code\n",
       "0             322       6713  19450101            30             0\n",
       "1             322       6713  19450102            13             0\n",
       "2             322       6713  19450103            38             0\n",
       "3             322       6713  19450104            20             0\n",
       "4             322       6713  19450105            41             0\n",
       "...           ...        ...       ...           ...           ...\n",
       "27357         322     907130  20191126           125             0\n",
       "27358         322     907130  20191127           118             0\n",
       "27359         322     907130  20191128           115             0\n",
       "27360         322     907130  20191129            92             0\n",
       "27361         322     907130  20191130            68             0\n",
       "\n",
       "[27341 rows x 5 columns]"
      ]
     },
     "execution_count": 5,
     "metadata": {},
     "output_type": "execute_result"
    }
   ],
   "source": [
    "temp"
   ]
  },
  {
   "cell_type": "markdown",
   "metadata": {},
   "source": [
    "## 2) b-] Est-ce qu'il y a des données ne correspondant pas à la station de Saint Jacques de la Lande dans le jeu de données?\n",
    "\n",
    "Identifiant de la station de Saint-Jacques : 322"
   ]
  },
  {
   "cell_type": "code",
   "execution_count": 6,
   "metadata": {},
   "outputs": [
    {
     "data": {
      "text/html": [
       "<div>\n",
       "<style scoped>\n",
       "    .dataframe tbody tr th:only-of-type {\n",
       "        vertical-align: middle;\n",
       "    }\n",
       "\n",
       "    .dataframe tbody tr th {\n",
       "        vertical-align: top;\n",
       "    }\n",
       "\n",
       "    .dataframe thead th {\n",
       "        text-align: right;\n",
       "    }\n",
       "</style>\n",
       "<table border=\"1\" class=\"dataframe\">\n",
       "  <thead>\n",
       "    <tr style=\"text-align: right;\">\n",
       "      <th></th>\n",
       "      <th>station_id</th>\n",
       "      <th>source_id</th>\n",
       "      <th>date</th>\n",
       "      <th>temp_dixieme</th>\n",
       "      <th>quality_code</th>\n",
       "    </tr>\n",
       "  </thead>\n",
       "  <tbody>\n",
       "  </tbody>\n",
       "</table>\n",
       "</div>"
      ],
      "text/plain": [
       "Empty DataFrame\n",
       "Columns: [station_id, source_id, date, temp_dixieme, quality_code]\n",
       "Index: []"
      ]
     },
     "execution_count": 6,
     "metadata": {},
     "output_type": "execute_result"
    }
   ],
   "source": [
    "temp.query('station_id!=322')"
   ]
  },
  {
   "cell_type": "markdown",
   "metadata": {},
   "source": [
    "Non, il n'y en a pas!"
   ]
  },
  {
   "cell_type": "markdown",
   "metadata": {},
   "source": [
    "## 2) c-] Combien de sources différentes ont contribué au jeu de données? Laquelle a le plus contribué aux mesures?"
   ]
  },
  {
   "cell_type": "markdown",
   "metadata": {},
   "source": [
    "Pensez à unique de pandas"
   ]
  },
  {
   "cell_type": "code",
   "execution_count": 7,
   "metadata": {},
   "outputs": [
    {
     "name": "stdout",
     "output_type": "stream",
     "text": [
      "Source  6713 :  26662  mesures\n",
      "Source  907130 :  679  mesures\n"
     ]
    }
   ],
   "source": [
    "sources_id = temp['source_id'].unique()\n",
    "for i in range(len(sources_id)):\n",
    "    print('Source ', str(sources_id[i]), ': ', len(temp.query(\"source_id==\"+str(sources_id[i]))), ' mesures')"
   ]
  },
  {
   "cell_type": "markdown",
   "metadata": {},
   "source": [
    "Il y a deux sources; la source d'identifiant 6713 a constitué la majorité du dataset"
   ]
  },
  {
   "cell_type": "markdown",
   "metadata": {},
   "source": [
    "# 3) Mise en forme des données\n",
    "\n",
    "\n",
    "## 3) a-] Les données de température sont en dixième de degrés. Créez une variable contenant la température en degrés."
   ]
  },
  {
   "cell_type": "code",
   "execution_count": 8,
   "metadata": {},
   "outputs": [
    {
     "data": {
      "text/html": [
       "<div>\n",
       "<style scoped>\n",
       "    .dataframe tbody tr th:only-of-type {\n",
       "        vertical-align: middle;\n",
       "    }\n",
       "\n",
       "    .dataframe tbody tr th {\n",
       "        vertical-align: top;\n",
       "    }\n",
       "\n",
       "    .dataframe thead th {\n",
       "        text-align: right;\n",
       "    }\n",
       "</style>\n",
       "<table border=\"1\" class=\"dataframe\">\n",
       "  <thead>\n",
       "    <tr style=\"text-align: right;\">\n",
       "      <th></th>\n",
       "      <th>station_id</th>\n",
       "      <th>source_id</th>\n",
       "      <th>date</th>\n",
       "      <th>temp_dixieme</th>\n",
       "      <th>quality_code</th>\n",
       "      <th>temp</th>\n",
       "    </tr>\n",
       "  </thead>\n",
       "  <tbody>\n",
       "    <tr>\n",
       "      <td>0</td>\n",
       "      <td>322</td>\n",
       "      <td>6713</td>\n",
       "      <td>19450101</td>\n",
       "      <td>30</td>\n",
       "      <td>0</td>\n",
       "      <td>3.0</td>\n",
       "    </tr>\n",
       "    <tr>\n",
       "      <td>1</td>\n",
       "      <td>322</td>\n",
       "      <td>6713</td>\n",
       "      <td>19450102</td>\n",
       "      <td>13</td>\n",
       "      <td>0</td>\n",
       "      <td>1.3</td>\n",
       "    </tr>\n",
       "    <tr>\n",
       "      <td>2</td>\n",
       "      <td>322</td>\n",
       "      <td>6713</td>\n",
       "      <td>19450103</td>\n",
       "      <td>38</td>\n",
       "      <td>0</td>\n",
       "      <td>3.8</td>\n",
       "    </tr>\n",
       "    <tr>\n",
       "      <td>3</td>\n",
       "      <td>322</td>\n",
       "      <td>6713</td>\n",
       "      <td>19450104</td>\n",
       "      <td>20</td>\n",
       "      <td>0</td>\n",
       "      <td>2.0</td>\n",
       "    </tr>\n",
       "    <tr>\n",
       "      <td>4</td>\n",
       "      <td>322</td>\n",
       "      <td>6713</td>\n",
       "      <td>19450105</td>\n",
       "      <td>41</td>\n",
       "      <td>0</td>\n",
       "      <td>4.1</td>\n",
       "    </tr>\n",
       "  </tbody>\n",
       "</table>\n",
       "</div>"
      ],
      "text/plain": [
       "   station_id  source_id      date  temp_dixieme  quality_code  temp\n",
       "0         322       6713  19450101            30             0   3.0\n",
       "1         322       6713  19450102            13             0   1.3\n",
       "2         322       6713  19450103            38             0   3.8\n",
       "3         322       6713  19450104            20             0   2.0\n",
       "4         322       6713  19450105            41             0   4.1"
      ]
     },
     "execution_count": 8,
     "metadata": {},
     "output_type": "execute_result"
    }
   ],
   "source": [
    "temp = temp.assign(temp=temp['temp_dixieme']/10)\n",
    "temp.head()"
   ]
  },
  {
   "cell_type": "markdown",
   "metadata": {},
   "source": [
    "## 3) b-] Extraire de la date l'année associée à chaque mesure de température et créez une variable annee. Idem pour le jour."
   ]
  },
  {
   "cell_type": "code",
   "execution_count": 9,
   "metadata": {},
   "outputs": [
    {
     "data": {
      "text/html": [
       "<div>\n",
       "<style scoped>\n",
       "    .dataframe tbody tr th:only-of-type {\n",
       "        vertical-align: middle;\n",
       "    }\n",
       "\n",
       "    .dataframe tbody tr th {\n",
       "        vertical-align: top;\n",
       "    }\n",
       "\n",
       "    .dataframe thead th {\n",
       "        text-align: right;\n",
       "    }\n",
       "</style>\n",
       "<table border=\"1\" class=\"dataframe\">\n",
       "  <thead>\n",
       "    <tr style=\"text-align: right;\">\n",
       "      <th></th>\n",
       "      <th>station_id</th>\n",
       "      <th>source_id</th>\n",
       "      <th>date</th>\n",
       "      <th>temp_dixieme</th>\n",
       "      <th>quality_code</th>\n",
       "      <th>temp</th>\n",
       "      <th>annee</th>\n",
       "      <th>jour</th>\n",
       "    </tr>\n",
       "  </thead>\n",
       "  <tbody>\n",
       "    <tr>\n",
       "      <td>0</td>\n",
       "      <td>322</td>\n",
       "      <td>6713</td>\n",
       "      <td>19450101</td>\n",
       "      <td>30</td>\n",
       "      <td>0</td>\n",
       "      <td>3.0</td>\n",
       "      <td>1945</td>\n",
       "      <td>1</td>\n",
       "    </tr>\n",
       "    <tr>\n",
       "      <td>1</td>\n",
       "      <td>322</td>\n",
       "      <td>6713</td>\n",
       "      <td>19450102</td>\n",
       "      <td>13</td>\n",
       "      <td>0</td>\n",
       "      <td>1.3</td>\n",
       "      <td>1945</td>\n",
       "      <td>2</td>\n",
       "    </tr>\n",
       "    <tr>\n",
       "      <td>2</td>\n",
       "      <td>322</td>\n",
       "      <td>6713</td>\n",
       "      <td>19450103</td>\n",
       "      <td>38</td>\n",
       "      <td>0</td>\n",
       "      <td>3.8</td>\n",
       "      <td>1945</td>\n",
       "      <td>3</td>\n",
       "    </tr>\n",
       "    <tr>\n",
       "      <td>3</td>\n",
       "      <td>322</td>\n",
       "      <td>6713</td>\n",
       "      <td>19450104</td>\n",
       "      <td>20</td>\n",
       "      <td>0</td>\n",
       "      <td>2.0</td>\n",
       "      <td>1945</td>\n",
       "      <td>4</td>\n",
       "    </tr>\n",
       "    <tr>\n",
       "      <td>4</td>\n",
       "      <td>322</td>\n",
       "      <td>6713</td>\n",
       "      <td>19450105</td>\n",
       "      <td>41</td>\n",
       "      <td>0</td>\n",
       "      <td>4.1</td>\n",
       "      <td>1945</td>\n",
       "      <td>5</td>\n",
       "    </tr>\n",
       "  </tbody>\n",
       "</table>\n",
       "</div>"
      ],
      "text/plain": [
       "   station_id  source_id      date  temp_dixieme  quality_code  temp  annee  \\\n",
       "0         322       6713  19450101            30             0   3.0   1945   \n",
       "1         322       6713  19450102            13             0   1.3   1945   \n",
       "2         322       6713  19450103            38             0   3.8   1945   \n",
       "3         322       6713  19450104            20             0   2.0   1945   \n",
       "4         322       6713  19450105            41             0   4.1   1945   \n",
       "\n",
       "   jour  \n",
       "0     1  \n",
       "1     2  \n",
       "2     3  \n",
       "3     4  \n",
       "4     5  "
      ]
     },
     "execution_count": 9,
     "metadata": {},
     "output_type": "execute_result"
    }
   ],
   "source": [
    "date = temp['date']\n",
    "temp['annee'] = [int(str(d)[0:4]) for d in date]\n",
    "temp['jour'] = [int(str(d)[6:]) for d in date]\n",
    "temp.head()"
   ]
  },
  {
   "cell_type": "markdown",
   "metadata": {},
   "source": [
    "##  3) c-] Extraire de la date le mois associé à chaque mesure de température et créez une variable qui contient le libellé du mois (janvier, février, etc.)"
   ]
  },
  {
   "cell_type": "code",
   "execution_count": 10,
   "metadata": {},
   "outputs": [
    {
     "data": {
      "text/html": [
       "<div>\n",
       "<style scoped>\n",
       "    .dataframe tbody tr th:only-of-type {\n",
       "        vertical-align: middle;\n",
       "    }\n",
       "\n",
       "    .dataframe tbody tr th {\n",
       "        vertical-align: top;\n",
       "    }\n",
       "\n",
       "    .dataframe thead th {\n",
       "        text-align: right;\n",
       "    }\n",
       "</style>\n",
       "<table border=\"1\" class=\"dataframe\">\n",
       "  <thead>\n",
       "    <tr style=\"text-align: right;\">\n",
       "      <th></th>\n",
       "      <th>station_id</th>\n",
       "      <th>source_id</th>\n",
       "      <th>date</th>\n",
       "      <th>temp_dixieme</th>\n",
       "      <th>quality_code</th>\n",
       "      <th>temp</th>\n",
       "      <th>annee</th>\n",
       "      <th>jour</th>\n",
       "      <th>mois</th>\n",
       "    </tr>\n",
       "  </thead>\n",
       "  <tbody>\n",
       "    <tr>\n",
       "      <td>0</td>\n",
       "      <td>322</td>\n",
       "      <td>6713</td>\n",
       "      <td>19450101</td>\n",
       "      <td>30</td>\n",
       "      <td>0</td>\n",
       "      <td>3.0</td>\n",
       "      <td>1945</td>\n",
       "      <td>1</td>\n",
       "      <td>janvier</td>\n",
       "    </tr>\n",
       "    <tr>\n",
       "      <td>1</td>\n",
       "      <td>322</td>\n",
       "      <td>6713</td>\n",
       "      <td>19450102</td>\n",
       "      <td>13</td>\n",
       "      <td>0</td>\n",
       "      <td>1.3</td>\n",
       "      <td>1945</td>\n",
       "      <td>2</td>\n",
       "      <td>janvier</td>\n",
       "    </tr>\n",
       "    <tr>\n",
       "      <td>2</td>\n",
       "      <td>322</td>\n",
       "      <td>6713</td>\n",
       "      <td>19450103</td>\n",
       "      <td>38</td>\n",
       "      <td>0</td>\n",
       "      <td>3.8</td>\n",
       "      <td>1945</td>\n",
       "      <td>3</td>\n",
       "      <td>janvier</td>\n",
       "    </tr>\n",
       "    <tr>\n",
       "      <td>3</td>\n",
       "      <td>322</td>\n",
       "      <td>6713</td>\n",
       "      <td>19450104</td>\n",
       "      <td>20</td>\n",
       "      <td>0</td>\n",
       "      <td>2.0</td>\n",
       "      <td>1945</td>\n",
       "      <td>4</td>\n",
       "      <td>janvier</td>\n",
       "    </tr>\n",
       "    <tr>\n",
       "      <td>4</td>\n",
       "      <td>322</td>\n",
       "      <td>6713</td>\n",
       "      <td>19450105</td>\n",
       "      <td>41</td>\n",
       "      <td>0</td>\n",
       "      <td>4.1</td>\n",
       "      <td>1945</td>\n",
       "      <td>5</td>\n",
       "      <td>janvier</td>\n",
       "    </tr>\n",
       "  </tbody>\n",
       "</table>\n",
       "</div>"
      ],
      "text/plain": [
       "   station_id  source_id      date  temp_dixieme  quality_code  temp  annee  \\\n",
       "0         322       6713  19450101            30             0   3.0   1945   \n",
       "1         322       6713  19450102            13             0   1.3   1945   \n",
       "2         322       6713  19450103            38             0   3.8   1945   \n",
       "3         322       6713  19450104            20             0   2.0   1945   \n",
       "4         322       6713  19450105            41             0   4.1   1945   \n",
       "\n",
       "   jour     mois  \n",
       "0     1  janvier  \n",
       "1     2  janvier  \n",
       "2     3  janvier  \n",
       "3     4  janvier  \n",
       "4     5  janvier  "
      ]
     },
     "execution_count": 10,
     "metadata": {},
     "output_type": "execute_result"
    }
   ],
   "source": [
    "mois = ['janvier', 'février', 'mars', 'avril', 'mai', 'juin', \n",
    "        'juillet', 'août', 'septembre', 'octobre', 'novembre', 'décembre']\n",
    "\n",
    "temp['mois'] = [mois[int(str(d)[4:6])-1] for d in temp['date']]\n",
    "temp.head()"
   ]
  },
  {
   "cell_type": "markdown",
   "metadata": {},
   "source": [
    "## 3) d-] Ne conserver que les variables date, annee, mois, jour et température en degree"
   ]
  },
  {
   "cell_type": "code",
   "execution_count": 11,
   "metadata": {},
   "outputs": [
    {
     "data": {
      "text/html": [
       "<div>\n",
       "<style scoped>\n",
       "    .dataframe tbody tr th:only-of-type {\n",
       "        vertical-align: middle;\n",
       "    }\n",
       "\n",
       "    .dataframe tbody tr th {\n",
       "        vertical-align: top;\n",
       "    }\n",
       "\n",
       "    .dataframe thead th {\n",
       "        text-align: right;\n",
       "    }\n",
       "</style>\n",
       "<table border=\"1\" class=\"dataframe\">\n",
       "  <thead>\n",
       "    <tr style=\"text-align: right;\">\n",
       "      <th></th>\n",
       "      <th>date</th>\n",
       "      <th>annee</th>\n",
       "      <th>mois</th>\n",
       "      <th>jour</th>\n",
       "      <th>temp</th>\n",
       "    </tr>\n",
       "  </thead>\n",
       "  <tbody>\n",
       "    <tr>\n",
       "      <td>0</td>\n",
       "      <td>19450101</td>\n",
       "      <td>1945</td>\n",
       "      <td>janvier</td>\n",
       "      <td>1</td>\n",
       "      <td>3.0</td>\n",
       "    </tr>\n",
       "    <tr>\n",
       "      <td>1</td>\n",
       "      <td>19450102</td>\n",
       "      <td>1945</td>\n",
       "      <td>janvier</td>\n",
       "      <td>2</td>\n",
       "      <td>1.3</td>\n",
       "    </tr>\n",
       "    <tr>\n",
       "      <td>2</td>\n",
       "      <td>19450103</td>\n",
       "      <td>1945</td>\n",
       "      <td>janvier</td>\n",
       "      <td>3</td>\n",
       "      <td>3.8</td>\n",
       "    </tr>\n",
       "    <tr>\n",
       "      <td>3</td>\n",
       "      <td>19450104</td>\n",
       "      <td>1945</td>\n",
       "      <td>janvier</td>\n",
       "      <td>4</td>\n",
       "      <td>2.0</td>\n",
       "    </tr>\n",
       "    <tr>\n",
       "      <td>4</td>\n",
       "      <td>19450105</td>\n",
       "      <td>1945</td>\n",
       "      <td>janvier</td>\n",
       "      <td>5</td>\n",
       "      <td>4.1</td>\n",
       "    </tr>\n",
       "  </tbody>\n",
       "</table>\n",
       "</div>"
      ],
      "text/plain": [
       "       date  annee     mois  jour  temp\n",
       "0  19450101   1945  janvier     1   3.0\n",
       "1  19450102   1945  janvier     2   1.3\n",
       "2  19450103   1945  janvier     3   3.8\n",
       "3  19450104   1945  janvier     4   2.0\n",
       "4  19450105   1945  janvier     5   4.1"
      ]
     },
     "execution_count": 11,
     "metadata": {},
     "output_type": "execute_result"
    }
   ],
   "source": [
    "temp = temp[['date','annee', 'mois', 'jour', 'temp']]\n",
    "temp.head()"
   ]
  },
  {
   "cell_type": "markdown",
   "metadata": {},
   "source": [
    "À partir de cette section, les parties 4), 5) et 6) sont indépendantes et peuvent se faire dans n'importe quel ordre."
   ]
  },
  {
   "cell_type": "markdown",
   "metadata": {},
   "source": [
    "# 4) Statistiques descriptives des données\n",
    "\n",
    "## 4) a-] Est-ce qu'il a neigé pendant plusieurs jours de suite en 2015?\n",
    "\n",
    "On pourra utiliser idxmin."
   ]
  },
  {
   "cell_type": "code",
   "execution_count": 12,
   "metadata": {},
   "outputs": [
    {
     "data": {
      "text/plain": [
       "date     20150206\n",
       "annee        2015\n",
       "mois      février\n",
       "jour            6\n",
       "temp          1.2\n",
       "Name: 25603, dtype: object"
      ]
     },
     "execution_count": 12,
     "metadata": {},
     "output_type": "execute_result"
    }
   ],
   "source": [
    "indice_min = temp.query(\"annee==2015\")['temp'].idxmin()\n",
    "temp.loc[indice_min]"
   ]
  },
  {
   "cell_type": "markdown",
   "metadata": {},
   "source": [
    "Non, il n'a pas pu neiger plusieurs jours de suite en 2015 (température journalière minimale sur l'année > 0°C)\n",
    "\n",
    "\n",
    "## 4) b-] En été 2019, la France a connu deux périodes de canicule, une en juin et une en juillet. Selon les données, laquelle a été la plus chaude?"
   ]
  },
  {
   "cell_type": "code",
   "execution_count": 13,
   "metadata": {},
   "outputs": [
    {
     "data": {
      "text/plain": [
       "date     20190628\n",
       "annee        2019\n",
       "mois         juin\n",
       "jour           28\n",
       "temp         28.8\n",
       "Name: 27206, dtype: object"
      ]
     },
     "execution_count": 13,
     "metadata": {},
     "output_type": "execute_result"
    }
   ],
   "source": [
    "indice_max = temp.query(\"annee==2019\")['temp'].idxmax()\n",
    "temp.loc[indice_max]"
   ]
  },
  {
   "cell_type": "code",
   "execution_count": 14,
   "metadata": {},
   "outputs": [
    {
     "data": {
      "text/plain": [
       "27.9"
      ]
     },
     "execution_count": 14,
     "metadata": {},
     "output_type": "execute_result"
    }
   ],
   "source": [
    "temp.query(\"annee==2019\").query(\"mois=='juillet'\")['temp'].max()"
   ]
  },
  {
   "cell_type": "markdown",
   "metadata": {},
   "source": [
    "Celle de fin juin, avec presque un degré de plus que celle de juillet\n",
    "\n",
    "\n",
    "# 5) Visualisation des données\n",
    "\n",
    "\n",
    "## 5) a-] Affichez un nuage de points représentant l'ensemble des températures de l'année 1970 dans l'ordre chronologique.\n",
    "\n",
    "### Bonus :\n",
    "\n",
    "* Au lieu d'afficher toutes les dates en abcsisses, affichez seulement les noms des mois à la place du 15ème jour du mois (par exemple, affichez 'janvier' au lieu de '19700115'). On pourra utiliser spécifier les dates à garder avec plt.xticks, et changer leurs valeurs à l'aide de set_xticklabels.\n",
    "\n",
    "* Et donnez une couleur à chaque saison, en ajoutant une légende.\n",
    "\n",
    "Délimiteurs de saisons:\n",
    "\n",
    "* Le 1er janvier par 'Hiver'\n",
    "* Le 21 mars par 'Printemps'\n",
    "* Le 21 juin par 'Été'\n",
    "* Le 23 septembre par 'Automne'\n",
    "* Le 22 décembre par 'Hiver'"
   ]
  },
  {
   "cell_type": "code",
   "execution_count": 15,
   "metadata": {},
   "outputs": [
    {
     "data": {
      "image/png": "[encoded data removed]",
      "text/plain": [
       "<Figure size 1080x720 with 1 Axes>"
      ]
     },
     "metadata": {
      "needs_background": "light"
     },
     "output_type": "display_data"
    }
   ],
   "source": [
    "temp1970 = temp.query(\"annee==1970\")\n",
    "t = temp1970['temp']\n",
    "d = np.array(temp1970['date'], str)\n",
    "\n",
    "indice_hiver1 = 0\n",
    "#solution 1 pour trouver les indices\n",
    "indice_printemps = np.where(d=='19700321')[0][0]\n",
    "#solution 2 pour trouver les indices\n",
    "indice_ete = np.argmax(d=='19700621')\n",
    "indice_automne = np.argmax(d=='19700923')\n",
    "indice_hiver2 = np.argmax(d=='19701222')\n",
    "n = len(temp1970)\n",
    "\n",
    "def milieu_mois():\n",
    "    res = []\n",
    "    for i in np.arange(1,13):\n",
    "        if i <10:\n",
    "            res.append('19700'+str(i)+'15')\n",
    "        else:\n",
    "            res.append('1970'+str(i)+'15')\n",
    "    return res\n",
    "\n",
    "fig = plt.figure(figsize=(15, 10))\n",
    "ax = fig.add_subplot(111)\n",
    "\n",
    "ax.set_xticklabels(mois)\n",
    "\n",
    "plt.scatter(d[indice_hiver1:indice_printemps], t[indice_hiver1:indice_printemps], \n",
    "            c= 'lightgrey', label = 'hiver')\n",
    "plt.scatter(d[indice_printemps:indice_ete],t[indice_printemps:indice_ete], \n",
    "            c ='lightgreen',label= 'printemps')\n",
    "plt.scatter(d[indice_ete:indice_automne],t[indice_ete:indice_automne], \n",
    "            c ='yellow', label = 'été')\n",
    "plt.scatter(d[indice_automne:indice_hiver2],t[indice_automne:indice_hiver2], \n",
    "            c ='red', label = 'automne')\n",
    "plt.scatter(d[indice_hiver2:n],t[indice_hiver2:n], c ='lightgrey')\n",
    "plt.legend()\n",
    "plt.ylabel('Temperature (celsus degrees)')\n",
    "plt.xticks(milieu_mois())\n",
    "plt.show()"
   ]
  },
  {
   "cell_type": "markdown",
   "metadata": {},
   "source": [
    "## 5) b-] Affichez sur la même figure un boxplot des températures de janvier 1948, et un boxplot des températures de janvier 2019\n",
    "\n",
    "Comparez les distributions de températures des deux mois considérés."
   ]
  },
  {
   "cell_type": "code",
   "execution_count": 16,
   "metadata": {},
   "outputs": [
    {
     "data": {
      "image/png": "[encoded data removed]",
      "text/plain": [
       "<Figure size 1080x720 with 1 Axes>"
      ]
     },
     "metadata": {
      "needs_background": "light"
     },
     "output_type": "display_data"
    }
   ],
   "source": [
    "temp_janv_1948 = temp.query(\"annee==1948\").query(\"mois=='janvier'\")['temp']\n",
    "temp_janv_2019 = temp.query(\"annee==2019\").query(\"mois=='janvier'\")['temp']\n",
    "\n",
    "fig = plt.figure(figsize=(15, 10))\n",
    "ax = fig.add_subplot(111)\n",
    "\n",
    "ax.set_xticklabels(['janvier 1948','janvier 2019'])\n",
    "\n",
    "plt.title('Comparaison des températures entre 1948 et 2019 sur Rennes')\n",
    "plt.boxplot((temp_janv_1948, temp_janv_2019))\n",
    "plt.show()"
   ]
  },
  {
   "cell_type": "code",
   "execution_count": 17,
   "metadata": {},
   "outputs": [
    {
     "data": {
      "text/plain": [
       "1.3999999999999995"
      ]
     },
     "execution_count": 17,
     "metadata": {},
     "output_type": "execute_result"
    }
   ],
   "source": [
    "np.median(temp_janv_1948)-np.median(temp_janv_2019)"
   ]
  },
  {
   "cell_type": "code",
   "execution_count": 18,
   "metadata": {},
   "outputs": [
    {
     "data": {
      "text/plain": [
       "2.048387096774193"
      ]
     },
     "execution_count": 18,
     "metadata": {},
     "output_type": "execute_result"
    }
   ],
   "source": [
    "np.mean(temp_janv_1948)-np.mean(temp_janv_2019)"
   ]
  },
  {
   "cell_type": "markdown",
   "metadata": {},
   "source": [
    "Janvier 1948 est un mois d'hiver moins rigoureux que janvier 2019. La température médiane de janvier 1948 est supérieure de 1.4°C à celle de janvier 2019. La température moyenne de janvier 1948 est supérieure de 2°C à celle de janvier 2019.\n",
    "\n",
    "# 6) Méthodes et tests statistiques\n",
    "\n",
    "\n",
    "## 6) a-] Créez un tableau contenant toutes les températures moyennes par année, de 1945 à 2019, puis affichez ces données sous forme graphique"
   ]
  },
  {
   "cell_type": "code",
   "execution_count": 19,
   "metadata": {},
   "outputs": [
    {
     "data": {
      "text/plain": [
       "annee\n",
       "1945    11.808219\n",
       "1946    10.703562\n",
       "1947    11.736164\n",
       "1948    11.354098\n",
       "1949    12.206301\n",
       "          ...    \n",
       "2015    12.627945\n",
       "2016    12.154098\n",
       "2017    12.547671\n",
       "2018    12.569275\n",
       "2019    13.304491\n",
       "Name: temp, Length: 75, dtype: float64"
      ]
     },
     "execution_count": 19,
     "metadata": {},
     "output_type": "execute_result"
    }
   ],
   "source": [
    "annee = np.arange(1945, 2020, 1)\n",
    "temp_annee = temp.groupby('annee')['temp'].mean()\n",
    "temp_annee"
   ]
  },
  {
   "cell_type": "code",
   "execution_count": 20,
   "metadata": {},
   "outputs": [
    {
     "data": {
      "image/png": "[encoded data removed]",
      "text/plain": [
       "<Figure size 720x504 with 1 Axes>"
      ]
     },
     "metadata": {
      "needs_background": "light"
     },
     "output_type": "display_data"
    }
   ],
   "source": [
    "plt.figure(figsize=(10,7))\n",
    "plt.scatter(annee, temp_annee)\n",
    "plt.title('Évolution de la température moyenne par année, de 1945 à 2019')\n",
    "plt.xlabel('Année')\n",
    "plt.ylabel(\"Température moyenne sur l'année (°C)\")\n",
    "plt.show()"
   ]
  },
  {
   "cell_type": "markdown",
   "metadata": {},
   "source": [
    "## 6) b-] Trouvez la droite de régression correspondant au graphe précédent"
   ]
  },
  {
   "cell_type": "code",
   "execution_count": 21,
   "metadata": {},
   "outputs": [
    {
     "name": "stdout",
     "output_type": "stream",
     "text": [
      "Coefficient de la droite de régression [[0.02078358]]\n",
      "Constante de régression [-29.41590481]\n"
     ]
    }
   ],
   "source": [
    "t = np.array(temp_annee).reshape(-1,1)\n",
    "\n",
    "reg = LinearRegression()\n",
    "reg.fit(np.array(annee).reshape(-1,1), t)\n",
    "\n",
    "droite_reg = np.array(reg.coef_*annee+reg.intercept_).reshape(-1,1)\n",
    "\n",
    "print(\"Coefficient de la droite de régression\", reg.coef_)\n",
    "print(\"Constante de régression\", reg.intercept_)"
   ]
  },
  {
   "cell_type": "markdown",
   "metadata": {},
   "source": [
    "## 6) c-] Affichez cette droite sur le graphique précédent, puis prévoyez la température moyenne pour 2045, et calculez la différence de températures observées entre 1945 et 2045"
   ]
  },
  {
   "cell_type": "code",
   "execution_count": 22,
   "metadata": {},
   "outputs": [
    {
     "data": {
      "image/png": "[encoded data removed]",
      "text/plain": [
       "<Figure size 720x504 with 1 Axes>"
      ]
     },
     "metadata": {
      "needs_background": "light"
     },
     "output_type": "display_data"
    }
   ],
   "source": [
    "plt.figure(figsize=(10,7))\n",
    "plt.scatter(annee, temp_annee, c=\"black\", label= 'Température moyenne')\n",
    "plt.plot(annee, droite_reg, c=\"red\", label = 'Droite de régression')\n",
    "plt.title('Évolution de la température moyenne par année, de 1945 à 2019')\n",
    "plt.xlabel('Année')\n",
    "plt.legend()\n",
    "plt.show()"
   ]
  },
  {
   "cell_type": "code",
   "execution_count": 23,
   "metadata": {},
   "outputs": [
    {
     "data": {
      "text/plain": [
       "array([[1.27829675]])"
      ]
     },
     "execution_count": 23,
     "metadata": {},
     "output_type": "execute_result"
    }
   ],
   "source": [
    "pred2045 = reg.coef_*2045+reg.intercept_\n",
    "\n",
    "pred2045-temp_annee.values[0]"
   ]
  },
  {
   "cell_type": "markdown",
   "metadata": {},
   "source": [
    "## 6) d-] Donald est climatosceptique.\n"
   ]
  },
  {
   "cell_type": "code",
   "execution_count": 24,
   "metadata": {},
   "outputs": [],
   "source": [
    "from IPython.display import Image"
   ]
  },
  {
   "cell_type": "markdown",
   "metadata": {},
   "source": [
    "Image[filename=\"donald.png\", width=200, height=200]"
   ]
  },
  {
   "cell_type": "markdown",
   "metadata": {},
   "source": [
    " ![title](donald.png)"
   ]
  },
  {
   "cell_type": "markdown",
   "metadata": {},
   "source": [
    "![title](donald.png)"
   ]
  },
  {
   "cell_type": "markdown",
   "metadata": {},
   "source": [
    "### Il pense qu'il n'y a pas de différence significative de températures moyennes entre la période 1945-1965 et la période 1999-2019. En tant que scientifique, et à l'aide des données, que pouvez-vous lui répondre concernant la région de Rennes?\n",
    "\n",
    "On pourra utiliser un t-test d'indépendance."
   ]
  },
  {
   "cell_type": "code",
   "execution_count": 25,
   "metadata": {},
   "outputs": [],
   "source": [
    "temp4565 = temp_annee[0:20]\n",
    "moy4565 = np.mean(temp4565)\n",
    "\n",
    "temp9919 = temp_annee[len(temp_annee)-20:len(temp_annee)]\n",
    "moy9919 = np.mean(temp9919)"
   ]
  },
  {
   "cell_type": "code",
   "execution_count": 26,
   "metadata": {},
   "outputs": [
    {
     "data": {
      "text/plain": [
       "Ttest_indResult(statistic=5.958489745339041, pvalue=6.490398060532384e-07)"
      ]
     },
     "execution_count": 26,
     "metadata": {},
     "output_type": "execute_result"
    }
   ],
   "source": [
    "scipy.stats.ttest_ind(temp9919, temp4565)"
   ]
  },
  {
   "cell_type": "markdown",
   "metadata": {},
   "source": [
    "On rejette l'hypothèse nulle d'égalité des moyennes, celles-ci sont significativement différentes pour les deux périodes"
   ]
  },
  {
   "cell_type": "code",
   "execution_count": 27,
   "metadata": {},
   "outputs": [
    {
     "name": "stdout",
     "output_type": "stream",
     "text": [
      "Pour Rennes (Saint-Jacques), la moyenne de température sur la période 1999-2019 est supérieure à celle de la période 1945-1965 : True d'environ 1.1 degré.\n"
     ]
    }
   ],
   "source": [
    "print(\"Pour Rennes (Saint-Jacques), la moyenne de température sur \"+\n",
    "      \"la période 1999-2019 est supérieure à celle de la période 1945-1965 :\", \n",
    "      moy9919>moy4565, \"d'environ\" , np.round(10*(moy9919-moy4565))/10, \"degré.\")"
   ]
  },
  {
   "cell_type": "markdown",
   "metadata": {},
   "source": [
    "# 7) Graphe dynamique\n",
    "\n",
    "Créez un diagramme en radars dynamique affichant les températures de chaque année au fur et à mesure du temps, entre 1945 et 2018.\n",
    "\n",
    "On mettra à jour le titre du graphe et on ajoutera les données pour chaque année.\n",
    "\n",
    "Pensez à %matplotlib qt pour autoriser l'affichage d'une fenêtre extérieure et plt.ion() pour rendre le graphe dynamique!\n",
    "\n",
    "Bon courage ;-)\n",
    "\n",
    "Quelques sources d'inpirations:\n",
    "\n",
    "* https://python-graph-gallery.com/391-radar-chart-with-several-individuals/\n",
    "* https://stackoverflow.com/questions/4098131/how-to-update-a-plot-in-matplotlib"
   ]
  },
  {
   "cell_type": "code",
   "execution_count": 35,
   "metadata": {},
   "outputs": [],
   "source": [
    "temp['m'] = [str(d)[4:6] for d in temp['date']]\n",
    "\n",
    "temp_ma = temp.query(\"annee!=2019\").groupby(['annee', 'm']).mean()['temp']\n",
    "temp_ma\n",
    "index_ma = temp_ma.index\n",
    "#index_ma"
   ]
  },
  {
   "cell_type": "code",
   "execution_count": 36,
   "metadata": {},
   "outputs": [
    {
     "data": {
      "text/html": [
       "<div>\n",
       "<style scoped>\n",
       "    .dataframe tbody tr th:only-of-type {\n",
       "        vertical-align: middle;\n",
       "    }\n",
       "\n",
       "    .dataframe tbody tr th {\n",
       "        vertical-align: top;\n",
       "    }\n",
       "\n",
       "    .dataframe thead th {\n",
       "        text-align: right;\n",
       "    }\n",
       "</style>\n",
       "<table border=\"1\" class=\"dataframe\">\n",
       "  <thead>\n",
       "    <tr style=\"text-align: right;\">\n",
       "      <th>m</th>\n",
       "      <th>01</th>\n",
       "      <th>02</th>\n",
       "      <th>03</th>\n",
       "      <th>04</th>\n",
       "      <th>05</th>\n",
       "      <th>06</th>\n",
       "      <th>07</th>\n",
       "      <th>08</th>\n",
       "      <th>09</th>\n",
       "      <th>10</th>\n",
       "      <th>11</th>\n",
       "      <th>12</th>\n",
       "    </tr>\n",
       "    <tr>\n",
       "      <th>annee</th>\n",
       "      <th></th>\n",
       "      <th></th>\n",
       "      <th></th>\n",
       "      <th></th>\n",
       "      <th></th>\n",
       "      <th></th>\n",
       "      <th></th>\n",
       "      <th></th>\n",
       "      <th></th>\n",
       "      <th></th>\n",
       "      <th></th>\n",
       "      <th></th>\n",
       "    </tr>\n",
       "  </thead>\n",
       "  <tbody>\n",
       "    <tr>\n",
       "      <td>1945</td>\n",
       "      <td>0.867742</td>\n",
       "      <td>8.882143</td>\n",
       "      <td>8.616129</td>\n",
       "      <td>12.356667</td>\n",
       "      <td>14.058065</td>\n",
       "      <td>16.686667</td>\n",
       "      <td>18.387097</td>\n",
       "      <td>17.732258</td>\n",
       "      <td>16.703333</td>\n",
       "      <td>13.080645</td>\n",
       "      <td>7.713333</td>\n",
       "      <td>6.532258</td>\n",
       "    </tr>\n",
       "    <tr>\n",
       "      <td>1946</td>\n",
       "      <td>1.541935</td>\n",
       "      <td>7.925000</td>\n",
       "      <td>7.358065</td>\n",
       "      <td>11.230000</td>\n",
       "      <td>12.190323</td>\n",
       "      <td>13.946667</td>\n",
       "      <td>18.070968</td>\n",
       "      <td>16.593548</td>\n",
       "      <td>15.753333</td>\n",
       "      <td>11.558065</td>\n",
       "      <td>9.186667</td>\n",
       "      <td>3.054839</td>\n",
       "    </tr>\n",
       "    <tr>\n",
       "      <td>1947</td>\n",
       "      <td>2.290323</td>\n",
       "      <td>2.271429</td>\n",
       "      <td>7.796774</td>\n",
       "      <td>11.290000</td>\n",
       "      <td>14.525806</td>\n",
       "      <td>16.840000</td>\n",
       "      <td>19.274194</td>\n",
       "      <td>20.983871</td>\n",
       "      <td>17.510000</td>\n",
       "      <td>11.812903</td>\n",
       "      <td>9.913333</td>\n",
       "      <td>5.687097</td>\n",
       "    </tr>\n",
       "    <tr>\n",
       "      <td>1948</td>\n",
       "      <td>7.548387</td>\n",
       "      <td>5.796552</td>\n",
       "      <td>10.738710</td>\n",
       "      <td>10.403333</td>\n",
       "      <td>13.654839</td>\n",
       "      <td>15.260000</td>\n",
       "      <td>17.058065</td>\n",
       "      <td>17.122581</td>\n",
       "      <td>14.930000</td>\n",
       "      <td>10.764516</td>\n",
       "      <td>7.630000</td>\n",
       "      <td>5.074194</td>\n",
       "    </tr>\n",
       "    <tr>\n",
       "      <td>1949</td>\n",
       "      <td>6.096774</td>\n",
       "      <td>6.235714</td>\n",
       "      <td>7.025806</td>\n",
       "      <td>11.443333</td>\n",
       "      <td>11.741935</td>\n",
       "      <td>17.280000</td>\n",
       "      <td>20.432258</td>\n",
       "      <td>19.548387</td>\n",
       "      <td>18.913333</td>\n",
       "      <td>14.122581</td>\n",
       "      <td>7.333333</td>\n",
       "      <td>5.922581</td>\n",
       "    </tr>\n",
       "    <tr>\n",
       "      <td>...</td>\n",
       "      <td>...</td>\n",
       "      <td>...</td>\n",
       "      <td>...</td>\n",
       "      <td>...</td>\n",
       "      <td>...</td>\n",
       "      <td>...</td>\n",
       "      <td>...</td>\n",
       "      <td>...</td>\n",
       "      <td>...</td>\n",
       "      <td>...</td>\n",
       "      <td>...</td>\n",
       "      <td>...</td>\n",
       "    </tr>\n",
       "    <tr>\n",
       "      <td>2014</td>\n",
       "      <td>7.774194</td>\n",
       "      <td>7.996429</td>\n",
       "      <td>9.238710</td>\n",
       "      <td>11.663333</td>\n",
       "      <td>13.438710</td>\n",
       "      <td>17.086667</td>\n",
       "      <td>19.577419</td>\n",
       "      <td>17.322581</td>\n",
       "      <td>17.920000</td>\n",
       "      <td>14.761290</td>\n",
       "      <td>10.686667</td>\n",
       "      <td>7.025806</td>\n",
       "    </tr>\n",
       "    <tr>\n",
       "      <td>2015</td>\n",
       "      <td>6.203226</td>\n",
       "      <td>5.039286</td>\n",
       "      <td>8.448387</td>\n",
       "      <td>12.303333</td>\n",
       "      <td>13.596774</td>\n",
       "      <td>17.183333</td>\n",
       "      <td>19.454839</td>\n",
       "      <td>19.006452</td>\n",
       "      <td>14.856667</td>\n",
       "      <td>12.383871</td>\n",
       "      <td>12.050000</td>\n",
       "      <td>10.464516</td>\n",
       "    </tr>\n",
       "    <tr>\n",
       "      <td>2016</td>\n",
       "      <td>7.161290</td>\n",
       "      <td>7.196552</td>\n",
       "      <td>7.348387</td>\n",
       "      <td>9.380000</td>\n",
       "      <td>14.235484</td>\n",
       "      <td>16.823333</td>\n",
       "      <td>18.838710</td>\n",
       "      <td>19.983871</td>\n",
       "      <td>18.970000</td>\n",
       "      <td>11.509677</td>\n",
       "      <td>8.476667</td>\n",
       "      <td>5.767742</td>\n",
       "    </tr>\n",
       "    <tr>\n",
       "      <td>2017</td>\n",
       "      <td>3.619355</td>\n",
       "      <td>7.842857</td>\n",
       "      <td>10.625806</td>\n",
       "      <td>10.236667</td>\n",
       "      <td>15.483871</td>\n",
       "      <td>18.920000</td>\n",
       "      <td>19.819355</td>\n",
       "      <td>18.993548</td>\n",
       "      <td>15.016667</td>\n",
       "      <td>14.212903</td>\n",
       "      <td>8.353333</td>\n",
       "      <td>7.067742</td>\n",
       "    </tr>\n",
       "    <tr>\n",
       "      <td>2018</td>\n",
       "      <td>8.506452</td>\n",
       "      <td>3.950000</td>\n",
       "      <td>7.841935</td>\n",
       "      <td>12.653333</td>\n",
       "      <td>15.054839</td>\n",
       "      <td>19.183333</td>\n",
       "      <td>21.059091</td>\n",
       "      <td>18.630000</td>\n",
       "      <td>16.880000</td>\n",
       "      <td>13.412903</td>\n",
       "      <td>9.023333</td>\n",
       "      <td>8.658065</td>\n",
       "    </tr>\n",
       "  </tbody>\n",
       "</table>\n",
       "<p>74 rows × 12 columns</p>\n",
       "</div>"
      ],
      "text/plain": [
       "m            01        02         03         04         05         06  \\\n",
       "annee                                                                   \n",
       "1945   0.867742  8.882143   8.616129  12.356667  14.058065  16.686667   \n",
       "1946   1.541935  7.925000   7.358065  11.230000  12.190323  13.946667   \n",
       "1947   2.290323  2.271429   7.796774  11.290000  14.525806  16.840000   \n",
       "1948   7.548387  5.796552  10.738710  10.403333  13.654839  15.260000   \n",
       "1949   6.096774  6.235714   7.025806  11.443333  11.741935  17.280000   \n",
       "...         ...       ...        ...        ...        ...        ...   \n",
       "2014   7.774194  7.996429   9.238710  11.663333  13.438710  17.086667   \n",
       "2015   6.203226  5.039286   8.448387  12.303333  13.596774  17.183333   \n",
       "2016   7.161290  7.196552   7.348387   9.380000  14.235484  16.823333   \n",
       "2017   3.619355  7.842857  10.625806  10.236667  15.483871  18.920000   \n",
       "2018   8.506452  3.950000   7.841935  12.653333  15.054839  19.183333   \n",
       "\n",
       "m             07         08         09         10         11         12  \n",
       "annee                                                                    \n",
       "1945   18.387097  17.732258  16.703333  13.080645   7.713333   6.532258  \n",
       "1946   18.070968  16.593548  15.753333  11.558065   9.186667   3.054839  \n",
       "1947   19.274194  20.983871  17.510000  11.812903   9.913333   5.687097  \n",
       "1948   17.058065  17.122581  14.930000  10.764516   7.630000   5.074194  \n",
       "1949   20.432258  19.548387  18.913333  14.122581   7.333333   5.922581  \n",
       "...          ...        ...        ...        ...        ...        ...  \n",
       "2014   19.577419  17.322581  17.920000  14.761290  10.686667   7.025806  \n",
       "2015   19.454839  19.006452  14.856667  12.383871  12.050000  10.464516  \n",
       "2016   18.838710  19.983871  18.970000  11.509677   8.476667   5.767742  \n",
       "2017   19.819355  18.993548  15.016667  14.212903   8.353333   7.067742  \n",
       "2018   21.059091  18.630000  16.880000  13.412903   9.023333   8.658065  \n",
       "\n",
       "[74 rows x 12 columns]"
      ]
     },
     "execution_count": 36,
     "metadata": {},
     "output_type": "execute_result"
    }
   ],
   "source": [
    "df = pd.DataFrame(np.array(temp_ma).reshape(74,12), \n",
    "                   columns = temp_ma.index.levels[1]).set_index(temp_ma.index.levels[0])\n",
    "df"
   ]
  },
  {
   "cell_type": "code",
   "execution_count": 37,
   "metadata": {},
   "outputs": [],
   "source": [
    "#enable interactive graphs\n",
    "%matplotlib qt\n",
    "\n",
    "# number of variable\n",
    "categories=list(df)\n",
    "N = len(categories)\n",
    "\n",
    "plt.ion()\n",
    "plt.figure(figsize=(10,10))\n",
    "# What will be the angle of each axis in the plot? (we divide the plot / number of variable)\n",
    "angles = [n / float(N) * 2 * np.pi for n in range(N)]\n",
    " \n",
    "# Initialise the spider plot\n",
    "ax = plt.subplot(111, polar=True)\n",
    " \n",
    "ax.set_xticklabels(mois)\n",
    "\n",
    "mois_ord = ['janvier', 'février' , 'mars', 'avril','mai', 'juin','juillet', \n",
    "            'août', 'septembre', 'octobre','novembre','décembre']\n",
    "\n",
    "# Draw one axe per variable + add labels labels yet\n",
    "plt.xticks(angles, mois_ord , color='grey', size=15)\n",
    " \n",
    "# Draw ylabels\n",
    "ax.set_rlabel_position(0)\n",
    "plt.yticks([0,5,10,15,20], [\"0\",\"5\",\"10\",\"15\",\"20\"], color=\"red\", size=12)\n",
    "plt.ylim(0,25)\n",
    "\n",
    "# Plot data\n",
    "for i in range(74):\n",
    "    values = df.iloc[i].values\n",
    "    ax.plot(angles, values, linewidth=1, linestyle='solid')\n",
    "    fig.canvas.draw()\n",
    "    fig.canvas.flush_events()\n",
    "    plt.title(\"Diagramme en radar de l'évolution des températures au cours du temps sur Saint-Jacques - Année \"+str(annee[i]))\n",
    "    plt.pause(0.5)\n",
    "\n",
    "ax.fill(angles, values, 'b', alpha=0)\n",
    "plt.savefig(\"question7.png\")\n",
    "plt.show()"
   ]
  },
  {
   "cell_type": "code",
   "execution_count": null,
   "metadata": {},
   "outputs": [],
   "source": []
  }
 ],
 "metadata": {
  "kernelspec": {
   "display_name": "Python 3",
   "language": "python",
   "name": "python3"
  },
  "language_info": {
   "codemirror_mode": {
    "name": "ipython",
    "version": 3
   },
   "file_extension": ".py",
   "mimetype": "text/x-python",
   "name": "python",
   "nbconvert_exporter": "python",
   "pygments_lexer": "ipython3",
   "version": "3.7.4"
  }
 },
 "nbformat": 4,
 "nbformat_minor": 2
}
